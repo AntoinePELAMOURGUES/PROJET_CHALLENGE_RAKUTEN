{
 "cells": [
  {
   "cell_type": "markdown",
   "id": "16f47a6d-acd0-4927-b0d0-453646fdd338",
   "metadata": {},
   "source": [
    "# <ins>APPRENTISSAGE DES IMAGES AVEC VGG16</ins>"
   ]
  },
  {
   "cell_type": "markdown",
   "id": "788e73e3-bfa8-4fc9-8ebc-69be28faaeab",
   "metadata": {},
   "source": [
    "## <ins>CHARGEMENT DES LIBRAIRIES</ins>"
   ]
  },
  {
   "cell_type": "code",
   "execution_count": 1,
   "id": "7e235c70",
   "metadata": {
    "tags": []
   },
   "outputs": [
    {
     "name": "stderr",
     "output_type": "stream",
     "text": [
      "2024-05-03 14:46:20.631388: I tensorflow/core/util/port.cc:113] oneDNN custom operations are on. You may see slightly different numerical results due to floating-point round-off errors from different computation orders. To turn them off, set the environment variable `TF_ENABLE_ONEDNN_OPTS=0`.\n",
      "2024-05-03 14:46:20.668212: I tensorflow/core/platform/cpu_feature_guard.cc:210] This TensorFlow binary is optimized to use available CPU instructions in performance-critical operations.\n",
      "To enable the following instructions: AVX2 AVX512F AVX512_VNNI FMA, in other operations, rebuild TensorFlow with the appropriate compiler flags.\n"
     ]
    }
   ],
   "source": [
    "import numpy as np\n",
    "import pandas as pd\n",
    "import json\n",
    "\n",
    "from glob import glob\n",
    "import pathlib\n",
    "import os\n",
    "\n",
    "import matplotlib.pyplot as plt\n",
    "from matplotlib.image import imread\n",
    "import tensorflow as tf\n",
    "import h5py\n",
    "import keras\n",
    "\n",
    "from sklearn.model_selection import train_test_split\n",
    "\n",
    "from tensorflow.keras.layers import Dense, Dropout, Flatten, GlobalAveragePooling2D, BatchNormalization, Input\n",
    "from tensorflow.keras.optimizers import Adam\n",
    "\n",
    "from tensorflow.keras.models import Model, Sequential\n",
    "from tensorflow.keras.preprocessing.image import ImageDataGenerator"
   ]
  },
  {
   "cell_type": "markdown",
   "id": "d1acef15-0456-41f2-b4a2-33d9211ff51b",
   "metadata": {},
   "source": [
    "## <ins>CHARGEMENT DE NOTRE DATASET TRAIN</ins>"
   ]
  },
  {
   "cell_type": "code",
   "execution_count": 2,
   "id": "a623536e-a1b2-4c80-a9c7-41d51c1097df",
   "metadata": {},
   "outputs": [
    {
     "data": {
      "text/html": [
       "<div>\n",
       "<style scoped>\n",
       "    .dataframe tbody tr th:only-of-type {\n",
       "        vertical-align: middle;\n",
       "    }\n",
       "\n",
       "    .dataframe tbody tr th {\n",
       "        vertical-align: top;\n",
       "    }\n",
       "\n",
       "    .dataframe thead th {\n",
       "        text-align: right;\n",
       "    }\n",
       "</style>\n",
       "<table border=\"1\" class=\"dataframe\">\n",
       "  <thead>\n",
       "    <tr style=\"text-align: right;\">\n",
       "      <th></th>\n",
       "      <th>prdtypecode</th>\n",
       "      <th>filepath</th>\n",
       "      <th>produit_clean</th>\n",
       "    </tr>\n",
       "  </thead>\n",
       "  <tbody>\n",
       "    <tr>\n",
       "      <th>20801</th>\n",
       "      <td>10</td>\n",
       "      <td>./images/train/image_1296257106_product_412830...</td>\n",
       "      <td>music journal notebook white paper edition</td>\n",
       "    </tr>\n",
       "    <tr>\n",
       "      <th>34711</th>\n",
       "      <td>2705</td>\n",
       "      <td>./images/train/image_1113907088_product_278513...</td>\n",
       "      <td>paris plus belle vacances liliane après opérat...</td>\n",
       "    </tr>\n",
       "    <tr>\n",
       "      <th>46725</th>\n",
       "      <td>1280</td>\n",
       "      <td>./images/train/image_890867971_product_1370941...</td>\n",
       "      <td>doudou lapin patapouf kaloo peluche boule bleu...</td>\n",
       "    </tr>\n",
       "    <tr>\n",
       "      <th>14558</th>\n",
       "      <td>1280</td>\n",
       "      <td>./images/train/image_1282020176_product_405387...</td>\n",
       "      <td>buyiesky®peluche hiver bottes neige american g...</td>\n",
       "    </tr>\n",
       "    <tr>\n",
       "      <th>3039</th>\n",
       "      <td>1160</td>\n",
       "      <td>./images/train/image_900656095_product_1462627...</td>\n",
       "      <td>foil premium collecteur âmes magic mtg fleau mint</td>\n",
       "    </tr>\n",
       "  </tbody>\n",
       "</table>\n",
       "</div>"
      ],
      "text/plain": [
       "      prdtypecode                                           filepath  \\\n",
       "20801          10  ./images/train/image_1296257106_product_412830...   \n",
       "34711        2705  ./images/train/image_1113907088_product_278513...   \n",
       "46725        1280  ./images/train/image_890867971_product_1370941...   \n",
       "14558        1280  ./images/train/image_1282020176_product_405387...   \n",
       "3039         1160  ./images/train/image_900656095_product_1462627...   \n",
       "\n",
       "                                           produit_clean  \n",
       "20801         music journal notebook white paper edition  \n",
       "34711  paris plus belle vacances liliane après opérat...  \n",
       "46725  doudou lapin patapouf kaloo peluche boule bleu...  \n",
       "14558  buyiesky®peluche hiver bottes neige american g...  \n",
       "3039   foil premium collecteur âmes magic mtg fleau mint  "
      ]
     },
     "metadata": {},
     "output_type": "display_data"
    },
    {
     "data": {
      "text/html": [
       "<div>\n",
       "<style scoped>\n",
       "    .dataframe tbody tr th:only-of-type {\n",
       "        vertical-align: middle;\n",
       "    }\n",
       "\n",
       "    .dataframe tbody tr th {\n",
       "        vertical-align: top;\n",
       "    }\n",
       "\n",
       "    .dataframe thead th {\n",
       "        text-align: right;\n",
       "    }\n",
       "</style>\n",
       "<table border=\"1\" class=\"dataframe\">\n",
       "  <thead>\n",
       "    <tr style=\"text-align: right;\">\n",
       "      <th></th>\n",
       "      <th>prdtypecode</th>\n",
       "      <th>filepath</th>\n",
       "      <th>produit_clean</th>\n",
       "    </tr>\n",
       "  </thead>\n",
       "  <tbody>\n",
       "    <tr>\n",
       "      <th>20801</th>\n",
       "      <td>10</td>\n",
       "      <td>./images/train/image_1296257106_product_412830...</td>\n",
       "      <td>music journal notebook white paper edition</td>\n",
       "    </tr>\n",
       "    <tr>\n",
       "      <th>34711</th>\n",
       "      <td>2705</td>\n",
       "      <td>./images/train/image_1113907088_product_278513...</td>\n",
       "      <td>paris plus belle vacances liliane après opérat...</td>\n",
       "    </tr>\n",
       "    <tr>\n",
       "      <th>46725</th>\n",
       "      <td>1280</td>\n",
       "      <td>./images/train/image_890867971_product_1370941...</td>\n",
       "      <td>doudou lapin patapouf kaloo peluche boule bleu...</td>\n",
       "    </tr>\n",
       "    <tr>\n",
       "      <th>14558</th>\n",
       "      <td>1280</td>\n",
       "      <td>./images/train/image_1282020176_product_405387...</td>\n",
       "      <td>buyiesky®peluche hiver bottes neige american g...</td>\n",
       "    </tr>\n",
       "    <tr>\n",
       "      <th>3039</th>\n",
       "      <td>1160</td>\n",
       "      <td>./images/train/image_900656095_product_1462627...</td>\n",
       "      <td>foil premium collecteur âmes magic mtg fleau mint</td>\n",
       "    </tr>\n",
       "  </tbody>\n",
       "</table>\n",
       "</div>"
      ],
      "text/plain": [
       "      prdtypecode                                           filepath  \\\n",
       "20801          10  ./images/train/image_1296257106_product_412830...   \n",
       "34711        2705  ./images/train/image_1113907088_product_278513...   \n",
       "46725        1280  ./images/train/image_890867971_product_1370941...   \n",
       "14558        1280  ./images/train/image_1282020176_product_405387...   \n",
       "3039         1160  ./images/train/image_900656095_product_1462627...   \n",
       "\n",
       "                                           produit_clean  \n",
       "20801         music journal notebook white paper edition  \n",
       "34711  paris plus belle vacances liliane après opérat...  \n",
       "46725  doudou lapin patapouf kaloo peluche boule bleu...  \n",
       "14558  buyiesky®peluche hiver bottes neige american g...  \n",
       "3039   foil premium collecteur âmes magic mtg fleau mint  "
      ]
     },
     "metadata": {},
     "output_type": "display_data"
    }
   ],
   "source": [
    "X_train = pd.read_csv('train_df.csv', index_col=[0])\n",
    "X_train.prdtypecode = X_train.prdtypecode.astype(str)\n",
    "X_test = pd.read_csv('train_df.csv', index_col=[0])\n",
    "X_test.prdtypecode = X_test.prdtypecode.astype(str)\n",
    "\n",
    "display(X_train.head())\n",
    "display(X_test.head())"
   ]
  },
  {
   "cell_type": "markdown",
   "id": "74ac2c75-1803-455c-894f-7dcfd470754c",
   "metadata": {},
   "source": [
    "## <ins>GENERATEUR DE DONNEES</ins>"
   ]
  },
  {
   "cell_type": "markdown",
   "id": "19583859-9458-4a12-989d-20046e359810",
   "metadata": {},
   "source": [
    "Les transformations appliquées sur notre image seront :\n",
    "\n",
    "- une fonction de prétraitement du modèle VGG16 : preprocess_input.\n",
    "- une rotation aléatoire sur une plage de 10 degrés.\n",
    "- une translation verticale et horizontale sur une plage de 10% des dimensions de l'images.\n",
    "- un agrandissement sur une plage 10% de l'image.\n",
    "- un retournement aléatoire horizontal de l'image."
   ]
  },
  {
   "cell_type": "code",
   "execution_count": 3,
   "id": "bd558462-1c50-4807-97f4-80c3834f76a2",
   "metadata": {},
   "outputs": [],
   "source": [
    "from tensorflow.keras.applications.vgg16 import preprocess_input\n",
    "\n",
    "train_data_generator = ImageDataGenerator(preprocessing_function = preprocess_input, validation_split = 0.2, rotation_range = 10, width_shift_range = 0.1, height_shift_range = 0.1, zoom_range = 0.1, horizontal_flip = True)\n",
    "\n",
    "test_data_generator = ImageDataGenerator(preprocessing_function = preprocess_input)"
   ]
  },
  {
   "cell_type": "markdown",
   "id": "a42aa479-f011-470b-a4ba-ba75ed59f018",
   "metadata": {},
   "source": [
    "## <ins>CREATION D UN DATASET TENSORFLOW A PARTIR DES CHEMINS ET DES ETIQUETTES</ins>"
   ]
  },
  {
   "cell_type": "markdown",
   "id": "c0cda330",
   "metadata": {},
   "source": [
    "## <ins>ITERATEUR</ins>"
   ]
  },
  {
   "cell_type": "markdown",
   "id": "5f454c8b-80e8-471f-9d47-8580d084cc5f",
   "metadata": {},
   "source": [
    "Cette méthode permettra de charger les images, de générér pour chaque iteration des lots de données (batchs) transformé par le générateur d'images."
   ]
  },
  {
   "cell_type": "code",
   "execution_count": 4,
   "id": "75d6f31e",
   "metadata": {},
   "outputs": [
    {
     "name": "stdout",
     "output_type": "stream",
     "text": [
      "Found 45684 validated image filenames belonging to 27 classes.\n",
      "Found 11420 validated image filenames belonging to 27 classes.\n",
      "Found 57104 validated image filenames belonging to 27 classes.\n"
     ]
    }
   ],
   "source": [
    "BATCH_SIZE = 32\n",
    "\n",
    "\n",
    "train_generator = train_data_generator.flow_from_dataframe(\n",
    "    dataframe=X_train,\n",
    "    x_col = \"filepath\",\n",
    "    y_col = \"prdtypecode\",\n",
    "    target_size= (224,224),\n",
    "    batch_size= BATCH_SIZE,\n",
    "    class_mode= 'categorical',\n",
    "    shuffle = True,\n",
    "    subset = 'training'\n",
    "    )\n",
    "\n",
    "validation_generator = train_data_generator.flow_from_dataframe(\n",
    "    dataframe=X_train,\n",
    "    x_col = \"filepath\",\n",
    "    y_col = \"prdtypecode\",\n",
    "    target_size= (224,224),\n",
    "    batch_size= BATCH_SIZE,\n",
    "    class_mode= 'categorical',\n",
    "    shuffle = True,\n",
    "    subset = 'validation'\n",
    "    )\n",
    "\n",
    "test_generator = test_data_generator.flow_from_dataframe(\n",
    "    dataframe=X_test,\n",
    "    x_col = \"filepath\",\n",
    "    y_col = \"prdtypecode\",\n",
    "    target_size= (224,224),\n",
    "    batch_size= 1,\n",
    "    class_mode= 'categorical',\n",
    "    shuffle = False, \n",
    "    )"
   ]
  },
  {
   "cell_type": "markdown",
   "id": "300ea0f9-15a0-4d72-bd29-5fcd57d8e5d5",
   "metadata": {},
   "source": [
    "##  <ins>CREATION DE NOTRE MODELE VGG AVEC 7 COUCHES SUPPLEMENTAIRES</ins>"
   ]
  },
  {
   "cell_type": "code",
   "execution_count": 5,
   "id": "c77386d0-c014-4990-9984-d8c5f8913a39",
   "metadata": {},
   "outputs": [
    {
     "name": "stderr",
     "output_type": "stream",
     "text": [
      "2024-05-03 14:48:35.729607: I external/local_xla/xla/stream_executor/cuda/cuda_executor.cc:984] could not open file to read NUMA node: /sys/bus/pci/devices/0000:01:00.0/numa_node\n",
      "Your kernel may have been built without NUMA support.\n",
      "2024-05-03 14:48:35.734828: I external/local_xla/xla/stream_executor/cuda/cuda_executor.cc:984] could not open file to read NUMA node: /sys/bus/pci/devices/0000:01:00.0/numa_node\n",
      "Your kernel may have been built without NUMA support.\n",
      "2024-05-03 14:48:35.734859: I external/local_xla/xla/stream_executor/cuda/cuda_executor.cc:984] could not open file to read NUMA node: /sys/bus/pci/devices/0000:01:00.0/numa_node\n",
      "Your kernel may have been built without NUMA support.\n",
      "2024-05-03 14:48:35.737142: I external/local_xla/xla/stream_executor/cuda/cuda_executor.cc:984] could not open file to read NUMA node: /sys/bus/pci/devices/0000:01:00.0/numa_node\n",
      "Your kernel may have been built without NUMA support.\n",
      "2024-05-03 14:48:35.737173: I external/local_xla/xla/stream_executor/cuda/cuda_executor.cc:984] could not open file to read NUMA node: /sys/bus/pci/devices/0000:01:00.0/numa_node\n",
      "Your kernel may have been built without NUMA support.\n",
      "2024-05-03 14:48:35.737187: I external/local_xla/xla/stream_executor/cuda/cuda_executor.cc:984] could not open file to read NUMA node: /sys/bus/pci/devices/0000:01:00.0/numa_node\n",
      "Your kernel may have been built without NUMA support.\n",
      "2024-05-03 14:48:35.821335: I external/local_xla/xla/stream_executor/cuda/cuda_executor.cc:984] could not open file to read NUMA node: /sys/bus/pci/devices/0000:01:00.0/numa_node\n",
      "Your kernel may have been built without NUMA support.\n",
      "2024-05-03 14:48:35.821374: I external/local_xla/xla/stream_executor/cuda/cuda_executor.cc:984] could not open file to read NUMA node: /sys/bus/pci/devices/0000:01:00.0/numa_node\n",
      "Your kernel may have been built without NUMA support.\n",
      "2024-05-03 14:48:35.821381: I tensorflow/core/common_runtime/gpu/gpu_device.cc:2019] Could not identify NUMA node of platform GPU id 0, defaulting to 0.  Your kernel may not have been built with NUMA support.\n",
      "2024-05-03 14:48:35.821403: I external/local_xla/xla/stream_executor/cuda/cuda_executor.cc:984] could not open file to read NUMA node: /sys/bus/pci/devices/0000:01:00.0/numa_node\n",
      "Your kernel may have been built without NUMA support.\n",
      "2024-05-03 14:48:35.821426: I tensorflow/core/common_runtime/gpu/gpu_device.cc:1928] Created device /job:localhost/replica:0/task:0/device:GPU:0 with 1767 MB memory:  -> device: 0, name: NVIDIA GeForce RTX 3050 Laptop GPU, pci bus id: 0000:01:00.0, compute capability: 8.6\n"
     ]
    },
    {
     "data": {
      "text/html": [
       "<pre style=\"white-space:pre;overflow-x:auto;line-height:normal;font-family:Menlo,'DejaVu Sans Mono',consolas,'Courier New',monospace\"><span style=\"font-weight: bold\">Model: \"functional_1\"</span>\n",
       "</pre>\n"
      ],
      "text/plain": [
       "\u001b[1mModel: \"functional_1\"\u001b[0m\n"
      ]
     },
     "metadata": {},
     "output_type": "display_data"
    },
    {
     "data": {
      "text/html": [
       "<pre style=\"white-space:pre;overflow-x:auto;line-height:normal;font-family:Menlo,'DejaVu Sans Mono',consolas,'Courier New',monospace\">┏━━━━━━━━━━━━━━━━━━━━━━━━━━━━━━━━━┳━━━━━━━━━━━━━━━━━━━━━━━━┳━━━━━━━━━━━━━━━┓\n",
       "┃<span style=\"font-weight: bold\"> Layer (type)                    </span>┃<span style=\"font-weight: bold\"> Output Shape           </span>┃<span style=\"font-weight: bold\">       Param # </span>┃\n",
       "┡━━━━━━━━━━━━━━━━━━━━━━━━━━━━━━━━━╇━━━━━━━━━━━━━━━━━━━━━━━━╇━━━━━━━━━━━━━━━┩\n",
       "│ input_layer_1 (<span style=\"color: #0087ff; text-decoration-color: #0087ff\">InputLayer</span>)      │ (<span style=\"color: #00d7ff; text-decoration-color: #00d7ff\">None</span>, <span style=\"color: #00af00; text-decoration-color: #00af00\">224</span>, <span style=\"color: #00af00; text-decoration-color: #00af00\">224</span>, <span style=\"color: #00af00; text-decoration-color: #00af00\">3</span>)    │             <span style=\"color: #00af00; text-decoration-color: #00af00\">0</span> │\n",
       "├─────────────────────────────────┼────────────────────────┼───────────────┤\n",
       "│ vgg16 (<span style=\"color: #0087ff; text-decoration-color: #0087ff\">Functional</span>)              │ (<span style=\"color: #00d7ff; text-decoration-color: #00d7ff\">None</span>, <span style=\"color: #00af00; text-decoration-color: #00af00\">7</span>, <span style=\"color: #00af00; text-decoration-color: #00af00\">7</span>, <span style=\"color: #00af00; text-decoration-color: #00af00\">512</span>)      │    <span style=\"color: #00af00; text-decoration-color: #00af00\">14,714,688</span> │\n",
       "├─────────────────────────────────┼────────────────────────┼───────────────┤\n",
       "│ global_average_pooling2d        │ (<span style=\"color: #00d7ff; text-decoration-color: #00d7ff\">None</span>, <span style=\"color: #00af00; text-decoration-color: #00af00\">512</span>)            │             <span style=\"color: #00af00; text-decoration-color: #00af00\">0</span> │\n",
       "│ (<span style=\"color: #0087ff; text-decoration-color: #0087ff\">GlobalAveragePooling2D</span>)        │                        │               │\n",
       "├─────────────────────────────────┼────────────────────────┼───────────────┤\n",
       "│ dense (<span style=\"color: #0087ff; text-decoration-color: #0087ff\">Dense</span>)                   │ (<span style=\"color: #00d7ff; text-decoration-color: #00d7ff\">None</span>, <span style=\"color: #00af00; text-decoration-color: #00af00\">1024</span>)           │       <span style=\"color: #00af00; text-decoration-color: #00af00\">525,312</span> │\n",
       "├─────────────────────────────────┼────────────────────────┼───────────────┤\n",
       "│ batch_normalization             │ (<span style=\"color: #00d7ff; text-decoration-color: #00d7ff\">None</span>, <span style=\"color: #00af00; text-decoration-color: #00af00\">1024</span>)           │         <span style=\"color: #00af00; text-decoration-color: #00af00\">4,096</span> │\n",
       "│ (<span style=\"color: #0087ff; text-decoration-color: #0087ff\">BatchNormalization</span>)            │                        │               │\n",
       "├─────────────────────────────────┼────────────────────────┼───────────────┤\n",
       "│ dropout (<span style=\"color: #0087ff; text-decoration-color: #0087ff\">Dropout</span>)               │ (<span style=\"color: #00d7ff; text-decoration-color: #00d7ff\">None</span>, <span style=\"color: #00af00; text-decoration-color: #00af00\">1024</span>)           │             <span style=\"color: #00af00; text-decoration-color: #00af00\">0</span> │\n",
       "├─────────────────────────────────┼────────────────────────┼───────────────┤\n",
       "│ dense_1 (<span style=\"color: #0087ff; text-decoration-color: #0087ff\">Dense</span>)                 │ (<span style=\"color: #00d7ff; text-decoration-color: #00d7ff\">None</span>, <span style=\"color: #00af00; text-decoration-color: #00af00\">512</span>)            │       <span style=\"color: #00af00; text-decoration-color: #00af00\">524,800</span> │\n",
       "├─────────────────────────────────┼────────────────────────┼───────────────┤\n",
       "│ batch_normalization_1           │ (<span style=\"color: #00d7ff; text-decoration-color: #00d7ff\">None</span>, <span style=\"color: #00af00; text-decoration-color: #00af00\">512</span>)            │         <span style=\"color: #00af00; text-decoration-color: #00af00\">2,048</span> │\n",
       "│ (<span style=\"color: #0087ff; text-decoration-color: #0087ff\">BatchNormalization</span>)            │                        │               │\n",
       "├─────────────────────────────────┼────────────────────────┼───────────────┤\n",
       "│ dense_2 (<span style=\"color: #0087ff; text-decoration-color: #0087ff\">Dense</span>)                 │ (<span style=\"color: #00d7ff; text-decoration-color: #00d7ff\">None</span>, <span style=\"color: #00af00; text-decoration-color: #00af00\">27</span>)             │        <span style=\"color: #00af00; text-decoration-color: #00af00\">13,851</span> │\n",
       "└─────────────────────────────────┴────────────────────────┴───────────────┘\n",
       "</pre>\n"
      ],
      "text/plain": [
       "┏━━━━━━━━━━━━━━━━━━━━━━━━━━━━━━━━━┳━━━━━━━━━━━━━━━━━━━━━━━━┳━━━━━━━━━━━━━━━┓\n",
       "┃\u001b[1m \u001b[0m\u001b[1mLayer (type)                   \u001b[0m\u001b[1m \u001b[0m┃\u001b[1m \u001b[0m\u001b[1mOutput Shape          \u001b[0m\u001b[1m \u001b[0m┃\u001b[1m \u001b[0m\u001b[1m      Param #\u001b[0m\u001b[1m \u001b[0m┃\n",
       "┡━━━━━━━━━━━━━━━━━━━━━━━━━━━━━━━━━╇━━━━━━━━━━━━━━━━━━━━━━━━╇━━━━━━━━━━━━━━━┩\n",
       "│ input_layer_1 (\u001b[38;5;33mInputLayer\u001b[0m)      │ (\u001b[38;5;45mNone\u001b[0m, \u001b[38;5;34m224\u001b[0m, \u001b[38;5;34m224\u001b[0m, \u001b[38;5;34m3\u001b[0m)    │             \u001b[38;5;34m0\u001b[0m │\n",
       "├─────────────────────────────────┼────────────────────────┼───────────────┤\n",
       "│ vgg16 (\u001b[38;5;33mFunctional\u001b[0m)              │ (\u001b[38;5;45mNone\u001b[0m, \u001b[38;5;34m7\u001b[0m, \u001b[38;5;34m7\u001b[0m, \u001b[38;5;34m512\u001b[0m)      │    \u001b[38;5;34m14,714,688\u001b[0m │\n",
       "├─────────────────────────────────┼────────────────────────┼───────────────┤\n",
       "│ global_average_pooling2d        │ (\u001b[38;5;45mNone\u001b[0m, \u001b[38;5;34m512\u001b[0m)            │             \u001b[38;5;34m0\u001b[0m │\n",
       "│ (\u001b[38;5;33mGlobalAveragePooling2D\u001b[0m)        │                        │               │\n",
       "├─────────────────────────────────┼────────────────────────┼───────────────┤\n",
       "│ dense (\u001b[38;5;33mDense\u001b[0m)                   │ (\u001b[38;5;45mNone\u001b[0m, \u001b[38;5;34m1024\u001b[0m)           │       \u001b[38;5;34m525,312\u001b[0m │\n",
       "├─────────────────────────────────┼────────────────────────┼───────────────┤\n",
       "│ batch_normalization             │ (\u001b[38;5;45mNone\u001b[0m, \u001b[38;5;34m1024\u001b[0m)           │         \u001b[38;5;34m4,096\u001b[0m │\n",
       "│ (\u001b[38;5;33mBatchNormalization\u001b[0m)            │                        │               │\n",
       "├─────────────────────────────────┼────────────────────────┼───────────────┤\n",
       "│ dropout (\u001b[38;5;33mDropout\u001b[0m)               │ (\u001b[38;5;45mNone\u001b[0m, \u001b[38;5;34m1024\u001b[0m)           │             \u001b[38;5;34m0\u001b[0m │\n",
       "├─────────────────────────────────┼────────────────────────┼───────────────┤\n",
       "│ dense_1 (\u001b[38;5;33mDense\u001b[0m)                 │ (\u001b[38;5;45mNone\u001b[0m, \u001b[38;5;34m512\u001b[0m)            │       \u001b[38;5;34m524,800\u001b[0m │\n",
       "├─────────────────────────────────┼────────────────────────┼───────────────┤\n",
       "│ batch_normalization_1           │ (\u001b[38;5;45mNone\u001b[0m, \u001b[38;5;34m512\u001b[0m)            │         \u001b[38;5;34m2,048\u001b[0m │\n",
       "│ (\u001b[38;5;33mBatchNormalization\u001b[0m)            │                        │               │\n",
       "├─────────────────────────────────┼────────────────────────┼───────────────┤\n",
       "│ dense_2 (\u001b[38;5;33mDense\u001b[0m)                 │ (\u001b[38;5;45mNone\u001b[0m, \u001b[38;5;34m27\u001b[0m)             │        \u001b[38;5;34m13,851\u001b[0m │\n",
       "└─────────────────────────────────┴────────────────────────┴───────────────┘\n"
      ]
     },
     "metadata": {},
     "output_type": "display_data"
    },
    {
     "data": {
      "text/html": [
       "<pre style=\"white-space:pre;overflow-x:auto;line-height:normal;font-family:Menlo,'DejaVu Sans Mono',consolas,'Courier New',monospace\"><span style=\"font-weight: bold\"> Total params: </span><span style=\"color: #00af00; text-decoration-color: #00af00\">15,784,795</span> (60.21 MB)\n",
       "</pre>\n"
      ],
      "text/plain": [
       "\u001b[1m Total params: \u001b[0m\u001b[38;5;34m15,784,795\u001b[0m (60.21 MB)\n"
      ]
     },
     "metadata": {},
     "output_type": "display_data"
    },
    {
     "data": {
      "text/html": [
       "<pre style=\"white-space:pre;overflow-x:auto;line-height:normal;font-family:Menlo,'DejaVu Sans Mono',consolas,'Courier New',monospace\"><span style=\"font-weight: bold\"> Trainable params: </span><span style=\"color: #00af00; text-decoration-color: #00af00\">1,067,035</span> (4.07 MB)\n",
       "</pre>\n"
      ],
      "text/plain": [
       "\u001b[1m Trainable params: \u001b[0m\u001b[38;5;34m1,067,035\u001b[0m (4.07 MB)\n"
      ]
     },
     "metadata": {},
     "output_type": "display_data"
    },
    {
     "data": {
      "text/html": [
       "<pre style=\"white-space:pre;overflow-x:auto;line-height:normal;font-family:Menlo,'DejaVu Sans Mono',consolas,'Courier New',monospace\"><span style=\"font-weight: bold\"> Non-trainable params: </span><span style=\"color: #00af00; text-decoration-color: #00af00\">14,717,760</span> (56.14 MB)\n",
       "</pre>\n"
      ],
      "text/plain": [
       "\u001b[1m Non-trainable params: \u001b[0m\u001b[38;5;34m14,717,760\u001b[0m (56.14 MB)\n"
      ]
     },
     "metadata": {},
     "output_type": "display_data"
    }
   ],
   "source": [
    "from keras.applications.vgg16 import VGG16\n",
    "\n",
    "n_class = 27\n",
    "\n",
    "base_model = VGG16(input_shape=(224,224,3), weights='imagenet', include_top=False)\n",
    "\n",
    "# blocage du backbone:\n",
    "for layer in base_model.layers:\n",
    "   layer.trainable = False  \n",
    "\n",
    "inputs = keras.Input(shape= (224,224,3))\n",
    "\n",
    "x = base_model(inputs, training = False)\n",
    "x = tf.keras.layers.GlobalAveragePooling2D()(x)\n",
    "x = tf.keras.layers.Dense(1024, activation=\"relu\")(x)\n",
    "x = tf.keras.layers.BatchNormalization(trainable = True,axis=1)(x)\n",
    "x = tf.keras.layers.Dropout(0.5)(x)\n",
    "x = tf.keras.layers.Dense(512, activation=\"relu\")(x)\n",
    "x = tf.keras.layers.BatchNormalization(trainable = True, axis=1)(x)\n",
    "outputs = tf.keras.layers.Dense(n_class, activation=\"softmax\")(x)\n",
    "\n",
    "model = keras.Model(inputs = inputs, outputs = outputs)\n",
    "\n",
    "model.summary()"
   ]
  },
  {
   "cell_type": "code",
   "execution_count": 9,
   "id": "d05157cd-e090-4411-99ae-93187439bb2a",
   "metadata": {},
   "outputs": [],
   "source": [
    "model.compile(loss=keras.losses.CategoricalFocalCrossentropy(), optimizer = 'adam', metrics=['accuracy'])"
   ]
  },
  {
   "cell_type": "markdown",
   "id": "28b2a277",
   "metadata": {},
   "source": [
    "## <ins>DERNIERES PREPARATION - CALLBACKS</ins>"
   ]
  },
  {
   "cell_type": "code",
   "execution_count": 10,
   "id": "df6d937c-5e6d-498f-8540-430f103867c0",
   "metadata": {},
   "outputs": [],
   "source": [
    "\n",
    "save_best_models_path = \"/datas/sauvegarde_modele/vgg16_freeze/vgg16_callback.weights.h5\"\n",
    "\n",
    "earlystopping = tf.keras.callbacks.EarlyStopping(monitor='val_loss', patience=2, restore_best_weights=True, verbose=1)\n",
    "                    \n",
    "model_checkpoint = tf.keras.callbacks.ModelCheckpoint(filepath=save_best_models_path, save_weights_only=True, save_best_only=True, monitor='val_loss', mode='min')\n",
    "                     \n",
    "reduce_lr = tf.keras.callbacks.ReduceLROnPlateau(monitor='val_loss', patience=5, verbose=1,  mode='min')\n",
    "\n",
    "# Entrainement\n",
    "\n",
    "callbacks = [model_checkpoint, reduce_lr, earlystopping]"
   ]
  },
  {
   "cell_type": "markdown",
   "id": "75c56ec6-1075-4fb4-bdae-416c01695be2",
   "metadata": {},
   "source": [
    "## <ins>FIT DU MODELE VGG16</ins>"
   ]
  },
  {
   "cell_type": "code",
   "execution_count": 11,
   "id": "60a0f5c7-d1d7-4818-9adb-69f04de00b29",
   "metadata": {},
   "outputs": [
    {
     "name": "stdout",
     "output_type": "stream",
     "text": [
      "Epoch 1/10\n"
     ]
    },
    {
     "name": "stderr",
     "output_type": "stream",
     "text": [
      "/usr/local/lib/python3.11/dist-packages/keras/src/trainers/data_adapters/py_dataset_adapter.py:122: UserWarning: Your `PyDataset` class should call `super().__init__(**kwargs)` in its constructor. `**kwargs` can include `workers`, `use_multiprocessing`, `max_queue_size`. Do not pass these arguments to `fit()`, as they will be ignored.\n",
      "  self._warn_if_super_not_called()\n",
      "WARNING: All log messages before absl::InitializeLog() is called are written to STDERR\n",
      "I0000 00:00:1714747850.768838     572 service.cc:145] XLA service 0x7f258401be20 initialized for platform CUDA (this does not guarantee that XLA will be used). Devices:\n",
      "I0000 00:00:1714747850.768884     572 service.cc:153]   StreamExecutor device (0): NVIDIA GeForce RTX 3050 Laptop GPU, Compute Capability 8.6\n",
      "2024-05-03 14:50:50.813004: I tensorflow/compiler/mlir/tensorflow/utils/dump_mlir_util.cc:268] disabling MLIR crash reproducer, set env var `MLIR_CRASH_REPRODUCER_DIRECTORY` to enable.\n",
      "2024-05-03 14:50:51.045737: I external/local_xla/xla/stream_executor/cuda/cuda_dnn.cc:465] Loaded cuDNN version 8906\n",
      "WARNING: All log messages before absl::InitializeLog() is called are written to STDERR\n",
      "I0000 00:00:1714747852.118360     648 asm_compiler.cc:369] ptxas warning : Registers are spilled to local memory in function 'triton_gemm_dot_2314', 40 bytes spill stores, 40 bytes spill loads\n",
      "\n",
      "I0000 00:00:1714747852.468250     642 asm_compiler.cc:369] ptxas warning : Registers are spilled to local memory in function 'triton_gemm_dot_2314', 32 bytes spill stores, 32 bytes spill loads\n",
      "\n",
      "I0000 00:00:1714747852.536561     648 asm_compiler.cc:369] ptxas warning : Registers are spilled to local memory in function 'triton_gemm_dot_2314', 4 bytes spill stores, 4 bytes spill loads\n",
      "\n",
      "2024-05-03 14:50:53.727844: W external/local_tsl/tsl/framework/bfc_allocator.cc:296] Allocator (GPU_0_bfc) ran out of memory trying to allocate 939.37MiB with freed_by_count=0. The caller indicates that this is not a failure, but this may mean that there could be performance gains if more memory were available.\n",
      "2024-05-03 14:50:54.532296: W external/local_tsl/tsl/framework/bfc_allocator.cc:296] Allocator (GPU_0_bfc) ran out of memory trying to allocate 800.14MiB with freed_by_count=0. The caller indicates that this is not a failure, but this may mean that there could be performance gains if more memory were available.\n",
      "2024-05-03 14:50:54.532363: W external/local_tsl/tsl/framework/bfc_allocator.cc:296] Allocator (GPU_0_bfc) ran out of memory trying to allocate 800.14MiB with freed_by_count=0. The caller indicates that this is not a failure, but this may mean that there could be performance gains if more memory were available.\n",
      "2024-05-03 14:50:54.532376: W external/local_tsl/tsl/framework/bfc_allocator.cc:296] Allocator (GPU_0_bfc) ran out of memory trying to allocate 800.14MiB with freed_by_count=0. The caller indicates that this is not a failure, but this may mean that there could be performance gains if more memory were available.\n",
      "2024-05-03 14:50:54.859389: W external/local_tsl/tsl/framework/bfc_allocator.cc:296] Allocator (GPU_0_bfc) ran out of memory trying to allocate 1.74GiB with freed_by_count=0. The caller indicates that this is not a failure, but this may mean that there could be performance gains if more memory were available.\n",
      "2024-05-03 14:50:54.948703: W external/local_tsl/tsl/framework/bfc_allocator.cc:296] Allocator (GPU_0_bfc) ran out of memory trying to allocate 800.14MiB with freed_by_count=0. The caller indicates that this is not a failure, but this may mean that there could be performance gains if more memory were available.\n",
      "2024-05-03 14:50:54.948763: W external/local_tsl/tsl/framework/bfc_allocator.cc:296] Allocator (GPU_0_bfc) ran out of memory trying to allocate 800.14MiB with freed_by_count=0. The caller indicates that this is not a failure, but this may mean that there could be performance gains if more memory were available.\n",
      "2024-05-03 14:50:54.948792: W external/local_tsl/tsl/framework/bfc_allocator.cc:296] Allocator (GPU_0_bfc) ran out of memory trying to allocate 800.14MiB with freed_by_count=0. The caller indicates that this is not a failure, but this may mean that there could be performance gains if more memory were available.\n",
      "2024-05-03 14:50:54.948818: W external/local_tsl/tsl/framework/bfc_allocator.cc:296] Allocator (GPU_0_bfc) ran out of memory trying to allocate 800.14MiB with freed_by_count=0. The caller indicates that this is not a failure, but this may mean that there could be performance gains if more memory were available.\n",
      "2024-05-03 14:50:55.464346: W external/local_tsl/tsl/framework/bfc_allocator.cc:296] Allocator (GPU_0_bfc) ran out of memory trying to allocate 800.14MiB with freed_by_count=0. The caller indicates that this is not a failure, but this may mean that there could be performance gains if more memory were available.\n"
     ]
    },
    {
     "name": "stdout",
     "output_type": "stream",
     "text": [
      "\u001b[1m   1/1428\u001b[0m \u001b[37m━━━━━━━━━━━━━━━━━━━━\u001b[0m \u001b[1m7:40:07\u001b[0m 19s/step - accuracy: 0.0625 - loss: 1.0045"
     ]
    },
    {
     "name": "stderr",
     "output_type": "stream",
     "text": [
      "I0000 00:00:1714747866.319924     572 device_compiler.h:188] Compiled cluster using XLA!  This line is logged at most once for the lifetime of the process.\n"
     ]
    },
    {
     "name": "stdout",
     "output_type": "stream",
     "text": [
      "\u001b[1m 207/1428\u001b[0m \u001b[32m━━\u001b[0m\u001b[37m━━━━━━━━━━━━━━━━━━\u001b[0m \u001b[1m6:19\u001b[0m 311ms/step - accuracy: 0.2877 - loss: 0.6274"
     ]
    },
    {
     "name": "stderr",
     "output_type": "stream",
     "text": [
      "I0000 00:00:1714747932.456709     708 asm_compiler.cc:369] ptxas warning : Registers are spilled to local memory in function 'triton_gemm_dot_2314', 4 bytes spill stores, 4 bytes spill loads\n",
      "\n",
      "I0000 00:00:1714747932.539200     707 asm_compiler.cc:369] ptxas warning : Registers are spilled to local memory in function 'triton_gemm_dot_2314', 32 bytes spill stores, 32 bytes spill loads\n",
      "\n",
      "I0000 00:00:1714747932.553493     716 asm_compiler.cc:369] ptxas warning : Registers are spilled to local memory in function 'triton_gemm_dot_2314', 40 bytes spill stores, 40 bytes spill loads\n",
      "\n"
     ]
    },
    {
     "name": "stdout",
     "output_type": "stream",
     "text": [
      "\u001b[1m1428/1428\u001b[0m \u001b[32m━━━━━━━━━━━━━━━━━━━━\u001b[0m\u001b[37m\u001b[0m \u001b[1m615s\u001b[0m 417ms/step - accuracy: 0.3820 - loss: 0.4707 - val_accuracy: 0.5021 - val_loss: 0.3214 - learning_rate: 0.0010\n",
      "Epoch 2/10\n",
      "\u001b[1m1428/1428\u001b[0m \u001b[32m━━━━━━━━━━━━━━━━━━━━\u001b[0m\u001b[37m\u001b[0m \u001b[1m542s\u001b[0m 378ms/step - accuracy: 0.4927 - loss: 0.3188 - val_accuracy: 0.5398 - val_loss: 0.2917 - learning_rate: 0.0010\n",
      "Epoch 3/10\n",
      "\u001b[1m1428/1428\u001b[0m \u001b[32m━━━━━━━━━━━━━━━━━━━━\u001b[0m\u001b[37m\u001b[0m \u001b[1m536s\u001b[0m 373ms/step - accuracy: 0.5128 - loss: 0.3000 - val_accuracy: 0.5454 - val_loss: 0.2859 - learning_rate: 0.0010\n",
      "Epoch 4/10\n",
      "\u001b[1m1428/1428\u001b[0m \u001b[32m━━━━━━━━━━━━━━━━━━━━\u001b[0m\u001b[37m\u001b[0m \u001b[1m543s\u001b[0m 378ms/step - accuracy: 0.5352 - loss: 0.2813 - val_accuracy: 0.5388 - val_loss: 0.2860 - learning_rate: 0.0010\n",
      "Epoch 5/10\n",
      "\u001b[1m1428/1428\u001b[0m \u001b[32m━━━━━━━━━━━━━━━━━━━━\u001b[0m\u001b[37m\u001b[0m \u001b[1m537s\u001b[0m 374ms/step - accuracy: 0.5427 - loss: 0.2706 - val_accuracy: 0.5468 - val_loss: 0.2835 - learning_rate: 0.0010\n",
      "Epoch 6/10\n",
      "\u001b[1m1428/1428\u001b[0m \u001b[32m━━━━━━━━━━━━━━━━━━━━\u001b[0m\u001b[37m\u001b[0m \u001b[1m540s\u001b[0m 377ms/step - accuracy: 0.5499 - loss: 0.2611 - val_accuracy: 0.5602 - val_loss: 0.2739 - learning_rate: 0.0010\n",
      "Epoch 7/10\n",
      "\u001b[1m1428/1428\u001b[0m \u001b[32m━━━━━━━━━━━━━━━━━━━━\u001b[0m\u001b[37m\u001b[0m \u001b[1m548s\u001b[0m 382ms/step - accuracy: 0.5653 - loss: 0.2557 - val_accuracy: 0.5558 - val_loss: 0.2748 - learning_rate: 0.0010\n",
      "Epoch 8/10\n",
      "\u001b[1m1428/1428\u001b[0m \u001b[32m━━━━━━━━━━━━━━━━━━━━\u001b[0m\u001b[37m\u001b[0m \u001b[1m552s\u001b[0m 385ms/step - accuracy: 0.5742 - loss: 0.2444 - val_accuracy: 0.5653 - val_loss: 0.2678 - learning_rate: 0.0010\n",
      "Epoch 9/10\n",
      "\u001b[1m1428/1428\u001b[0m \u001b[32m━━━━━━━━━━━━━━━━━━━━\u001b[0m\u001b[37m\u001b[0m \u001b[1m539s\u001b[0m 376ms/step - accuracy: 0.5796 - loss: 0.2384 - val_accuracy: 0.5623 - val_loss: 0.2681 - learning_rate: 0.0010\n",
      "Epoch 10/10\n",
      "\u001b[1m1428/1428\u001b[0m \u001b[32m━━━━━━━━━━━━━━━━━━━━\u001b[0m\u001b[37m\u001b[0m \u001b[1m538s\u001b[0m 375ms/step - accuracy: 0.5862 - loss: 0.2353 - val_accuracy: 0.5682 - val_loss: 0.2664 - learning_rate: 0.0010\n",
      "Restoring model weights from the end of the best epoch: 10.\n"
     ]
    }
   ],
   "source": [
    "# entrainement avec la méthode .fit()\n",
    "history = model.fit(\n",
    "    train_generator,\n",
    "    epochs=10,\n",
    "    validation_data=validation_generator,\n",
    "    callbacks=callbacks)"
   ]
  },
  {
   "cell_type": "code",
   "execution_count": 14,
   "id": "e9b88535-fb12-4924-a18d-c68485ab514d",
   "metadata": {},
   "outputs": [],
   "source": [
    "# Chemin pour enregistrer le modèle\n",
    "model_path = '/datas/sauvegarde_modele/vgg16_freeze/vgg16_freeze.keras'\n",
    "\n",
    "# Save the cloned model\n",
    "model.save(model_path)"
   ]
  },
  {
   "cell_type": "code",
   "execution_count": null,
   "id": "2db43f36",
   "metadata": {},
   "outputs": [],
   "source": [
    "# Chargement du modèle EfficientNetB1\n",
    "model_img = tf.keras.models.load_model(\"sauvegarde_modele/efficientnetV2/efficientnetV2.keras\")\n",
    "model_img.compile(loss = keras.losses.CategoricalFocalCrossentropy(), optimizer = keras.optimizers.Adam(), metrics=['accuracy'])"
   ]
  },
  {
   "cell_type": "code",
   "execution_count": 15,
   "id": "07bad413-8e36-411f-93e7-0e740f2c86f0",
   "metadata": {},
   "outputs": [
    {
     "data": {
      "image/png": "[encoded data removed]",
      "text/plain": [
       "<Figure size 1200x400 with 2 Axes>"
      ]
     },
     "metadata": {},
     "output_type": "display_data"
    }
   ],
   "source": [
    "\n",
    "plt.figure(figsize=(12,4))\n",
    "\n",
    "plt.subplot(121)\n",
    "plt.plot(history.history['loss'])\n",
    "plt.plot(history.history['val_loss'])\n",
    "plt.title('Model loss by epoch')\n",
    "plt.ylabel('loss')\n",
    "plt.xlabel('epoch')\n",
    "plt.legend(['train', 'test'], loc='right')\n",
    "\n",
    "plt.subplot(122)\n",
    "plt.plot(history.history['accuracy'])\n",
    "plt.plot(history.history['val_accuracy'])\n",
    "plt.title('Model accuracy by epoch')\n",
    "plt.ylabel('accuracy')\n",
    "plt.xlabel('epoch')\n",
    "plt.legend(['train', 'test'], loc='right')\n",
    "plt.show()"
   ]
  },
  {
   "cell_type": "code",
   "execution_count": 16,
   "id": "d9d93949-51df-469d-98eb-6ed2dd109c0c",
   "metadata": {},
   "outputs": [
    {
     "name": "stderr",
     "output_type": "stream",
     "text": [
      "/usr/local/lib/python3.11/dist-packages/keras/src/trainers/data_adapters/py_dataset_adapter.py:122: UserWarning: Your `PyDataset` class should call `super().__init__(**kwargs)` in its constructor. `**kwargs` can include `workers`, `use_multiprocessing`, `max_queue_size`. Do not pass these arguments to `fit()`, as they will be ignored.\n",
      "  self._warn_if_super_not_called()\n"
     ]
    },
    {
     "name": "stdout",
     "output_type": "stream",
     "text": [
      "\u001b[1m57104/57104\u001b[0m \u001b[32m━━━━━━━━━━━━━━━━━━━━\u001b[0m\u001b[37m\u001b[0m \u001b[1m565s\u001b[0m 10ms/step\n"
     ]
    }
   ],
   "source": [
    "# Probabilités renvoyées par le modèle\n",
    "y_prob = model.predict(test_generator, batch_size=1)\n",
    "\n",
    "# Prédiction de la classe\n",
    "y_pred = tf.argmax(y_prob, axis=-1).numpy()"
   ]
  },
  {
   "cell_type": "code",
   "execution_count": 17,
   "id": "b143bc00-9582-4962-a14b-0350c5d543b5",
   "metadata": {},
   "outputs": [],
   "source": [
    "# Vraies étiquettes\n",
    "y_test = test_generator.classes\n",
    "class_labels = list(test_generator.class_indices.keys())   "
   ]
  },
  {
   "cell_type": "code",
   "execution_count": 18,
   "id": "5946b83c-30b9-4f75-8222-71d000712927",
   "metadata": {},
   "outputs": [
    {
     "name": "stdout",
     "output_type": "stream",
     "text": [
      "              precision    recall  f1-score   support\n",
      "\n",
      "          10       0.54      0.36      0.43      1970\n",
      "        1140       0.65      0.62      0.63      1553\n",
      "        1160       0.87      0.88      0.87      2173\n",
      "        1180       0.63      0.41      0.49       494\n",
      "        1280       0.56      0.43      0.49      3400\n",
      "        1281       0.39      0.32      0.35      1432\n",
      "        1300       0.65      0.75      0.70      3391\n",
      "        1301       0.73      0.63      0.68       509\n",
      "        1302       0.51      0.58      0.54      1670\n",
      "        1320       0.66      0.46      0.54      2176\n",
      "        1560       0.68      0.56      0.61      3664\n",
      "        1920       0.83      0.79      0.81      3051\n",
      "        1940       0.70      0.69      0.69       527\n",
      "        2060       0.50      0.65      0.57      3585\n",
      "        2220       0.71      0.44      0.54       610\n",
      "        2280       0.64      0.74      0.68      3016\n",
      "        2403       0.62      0.63      0.62      2905\n",
      "        2462       0.68      0.51      0.58       862\n",
      "        2522       0.72      0.65      0.69      3485\n",
      "        2582       0.64      0.36      0.46      1859\n",
      "        2583       0.75      0.88      0.81      7167\n",
      "        2585       0.48      0.57      0.52      1792\n",
      "        2705       0.50      0.88      0.63      1880\n",
      "        2905       0.58      0.70      0.63       667\n",
      "          40       0.55      0.49      0.52      1560\n",
      "          50       0.53      0.46      0.49      1124\n",
      "          60       0.74      0.69      0.72       582\n",
      "\n",
      "    accuracy                           0.64     57104\n",
      "   macro avg       0.63      0.60      0.60     57104\n",
      "weighted avg       0.64      0.64      0.63     57104\n",
      "\n"
     ]
    }
   ],
   "source": [
    "# Classification report\n",
    "from sklearn.metrics import classification_report, accuracy_score, f1_score\n",
    "\n",
    "print(classification_report(y_test, y_pred, target_names = class_labels))\n"
   ]
  },
  {
   "cell_type": "code",
   "execution_count": 19,
   "id": "78d5458e-6a91-4190-9826-75dc15e6015f",
   "metadata": {},
   "outputs": [
    {
     "name": "stdout",
     "output_type": "stream",
     "text": [
      "ACCURACY DU MODELE :  0.6388519193051275\n",
      "\n",
      "F1_SCORE_WEIGHTED :  0.6323855199557097\n",
      "\n"
     ]
    }
   ],
   "source": [
    "# Calcul accuracy\n",
    "print (\"ACCURACY DU MODELE : \", accuracy_score(y_test, y_pred), end = \"\\n\\n\")\n",
    "# Calcul f1_score\n",
    "print(\"F1_SCORE_WEIGHTED : \", f1_score(y_test, y_pred, average = 'weighted'), end = \"\\n\\n\")"
   ]
  },
  {
   "cell_type": "markdown",
   "id": "31055744-ed4c-4e14-9b21-6f949731beed",
   "metadata": {},
   "source": [
    "## <ins>DE-FREEZ DES 8 DERNIERES COUCHES DE NOTRE MODELE VGG16</ins>"
   ]
  },
  {
   "cell_type": "markdown",
   "id": "5cf22c80-4ff7-4813-a6f6-6acf2528e085",
   "metadata": {},
   "source": [
    "Lors de l'apprentissage précédent, nous avons \"freezé\" les poids du modèle VGG16 CNN puisqu'ils étaient proches des poids optimaux et que les poids du classifieur étaient initialisés de manière aléatoire.\n",
    "\n",
    "Nous allons maintenant rechercher une meilleure solution en reprenant notre modèle appris précédément et \"dé-freezer\" les couches les unes après les autres du vgg16 . De plus, nous utilisons une learning rate plus faible pour ajuster plus finement les paramètres."
   ]
  },
  {
   "cell_type": "code",
   "execution_count": 21,
   "id": "19c66273-90c8-440a-9acc-8f64c60611db",
   "metadata": {},
   "outputs": [
    {
     "name": "stdout",
     "output_type": "stream",
     "text": [
      "Epoch 1/10\n"
     ]
    },
    {
     "name": "stderr",
     "output_type": "stream",
     "text": [
      "I0000 00:00:1714804374.898727    1553 asm_compiler.cc:369] ptxas warning : Registers are spilled to local memory in function 'triton_gemm_dot_2326', 84 bytes spill stores, 84 bytes spill loads\n",
      "\n"
     ]
    },
    {
     "name": "stdout",
     "output_type": "stream",
     "text": [
      "\u001b[1m 677/1428\u001b[0m \u001b[32m━━━━━━━━━\u001b[0m\u001b[37m━━━━━━━━━━━\u001b[0m \u001b[1m3:49\u001b[0m 305ms/step - accuracy: 0.1237 - loss: 0.7216"
     ]
    },
    {
     "name": "stderr",
     "output_type": "stream",
     "text": [
      "I0000 00:00:1714804590.970357    1623 asm_compiler.cc:369] ptxas warning : Registers are spilled to local memory in function 'triton_gemm_dot_2326', 96 bytes spill stores, 96 bytes spill loads\n",
      "\n"
     ]
    },
    {
     "name": "stdout",
     "output_type": "stream",
     "text": [
      "\u001b[1m1428/1428\u001b[0m \u001b[32m━━━━━━━━━━━━━━━━━━━━\u001b[0m\u001b[37m\u001b[0m \u001b[1m572s\u001b[0m 391ms/step - accuracy: 0.1326 - loss: 0.6878 - val_accuracy: 0.1828 - val_loss: 0.5836 - learning_rate: 0.0010\n",
      "Epoch 2/10\n",
      "\u001b[1m1428/1428\u001b[0m \u001b[32m━━━━━━━━━━━━━━━━━━━━\u001b[0m\u001b[37m\u001b[0m \u001b[1m554s\u001b[0m 386ms/step - accuracy: 0.1946 - loss: 0.5698 - val_accuracy: 0.2583 - val_loss: 0.5054 - learning_rate: 0.0010\n",
      "Epoch 3/10\n",
      "\u001b[1m1428/1428\u001b[0m \u001b[32m━━━━━━━━━━━━━━━━━━━━\u001b[0m\u001b[37m\u001b[0m \u001b[1m558s\u001b[0m 389ms/step - accuracy: 0.2896 - loss: 0.4872 - val_accuracy: 0.3216 - val_loss: 0.4693 - learning_rate: 0.0010\n",
      "Epoch 4/10\n",
      "\u001b[1m1428/1428\u001b[0m \u001b[32m━━━━━━━━━━━━━━━━━━━━\u001b[0m\u001b[37m\u001b[0m \u001b[1m558s\u001b[0m 389ms/step - accuracy: 0.3397 - loss: 0.4460 - val_accuracy: 0.3528 - val_loss: 0.4469 - learning_rate: 0.0010\n",
      "Epoch 5/10\n",
      "\u001b[1m1428/1428\u001b[0m \u001b[32m━━━━━━━━━━━━━━━━━━━━\u001b[0m\u001b[37m\u001b[0m \u001b[1m566s\u001b[0m 394ms/step - accuracy: 0.3767 - loss: 0.4159 - val_accuracy: 0.3880 - val_loss: 0.4131 - learning_rate: 0.0010\n",
      "Epoch 6/10\n",
      "\u001b[1m1428/1428\u001b[0m \u001b[32m━━━━━━━━━━━━━━━━━━━━\u001b[0m\u001b[37m\u001b[0m \u001b[1m563s\u001b[0m 393ms/step - accuracy: 0.4120 - loss: 0.3904 - val_accuracy: 0.4101 - val_loss: 0.4082 - learning_rate: 0.0010\n",
      "Epoch 7/10\n",
      "\u001b[1m1428/1428\u001b[0m \u001b[32m━━━━━━━━━━━━━━━━━━━━\u001b[0m\u001b[37m\u001b[0m \u001b[1m562s\u001b[0m 392ms/step - accuracy: 0.4326 - loss: 0.3713 - val_accuracy: 0.4306 - val_loss: 0.3820 - learning_rate: 0.0010\n",
      "Epoch 8/10\n",
      "\u001b[1m1428/1428\u001b[0m \u001b[32m━━━━━━━━━━━━━━━━━━━━\u001b[0m\u001b[37m\u001b[0m \u001b[1m563s\u001b[0m 392ms/step - accuracy: 0.4458 - loss: 0.3590 - val_accuracy: 0.4230 - val_loss: 0.3901 - learning_rate: 0.0010\n",
      "Epoch 9/10\n",
      "\u001b[1m1428/1428\u001b[0m \u001b[32m━━━━━━━━━━━━━━━━━━━━\u001b[0m\u001b[37m\u001b[0m \u001b[1m567s\u001b[0m 395ms/step - accuracy: 0.4687 - loss: 0.3416 - val_accuracy: 0.4265 - val_loss: 0.3943 - learning_rate: 0.0010\n",
      "Epoch 9: early stopping\n",
      "Restoring model weights from the end of the best epoch: 7.\n"
     ]
    }
   ],
   "source": [
    "for layer in base_model.layers[-8:]:\n",
    "    layer.trainable = True\n",
    "\n",
    "lr = 0.0001\n",
    "optimizer = Adam(learning_rate=lr)\n",
    "\n",
    "# compile avec modification de l'optimizer\n",
    "model.compile(loss=keras.losses.CategoricalFocalCrossentropy(), optimizer = 'adam', metrics=['accuracy'])\n",
    "\n",
    "save_best_models_path = \"/datas/sauvegarde_modele/vgg16_unfreeze/vgg16_unfreeze.weights.h5\"\n",
    "\n",
    "earlystopping = tf.keras.callbacks.EarlyStopping(monitor='val_loss', patience=2, restore_best_weights=True, verbose=1)\n",
    "                    \n",
    "model_checkpoint = tf.keras.callbacks.ModelCheckpoint(filepath=save_best_models_path, save_weights_only=True, save_best_only=True, monitor='val_loss', mode='min')\n",
    "                     \n",
    "reduce_lr = tf.keras.callbacks.ReduceLROnPlateau(monitor='val_loss', patience=5, verbose=1,  mode='min')\n",
    "\n",
    "# Entrainement\n",
    "\n",
    "callbacks = [model_checkpoint, reduce_lr, earlystopping]\n",
    "\n",
    "# entrainement avec la méthode .fit()\n",
    "history = model.fit(\n",
    "    train_generator,\n",
    "    epochs=10,\n",
    "    validation_data=validation_generator,\n",
    "    callbacks=callbacks)"
   ]
  },
  {
   "cell_type": "markdown",
   "id": "35aabe06-af28-4498-ab2d-4167f561f95b",
   "metadata": {},
   "source": [
    "## <ins>SAUVEGARDE DE NOTRE MODELLE</ins>"
   ]
  },
  {
   "cell_type": "code",
   "execution_count": 22,
   "id": "14072200-5bcb-4b4f-82bd-6588f3a54ee8",
   "metadata": {},
   "outputs": [],
   "source": [
    "# Chemin pour enregistrer le modèle\n",
    "model_path = '/datas/sauvegarde_modele/vgg16_unfreeze/vgg16_unfreeze.keras'\n",
    "\n",
    "# Enregistrement du modèle\n",
    "model.save(model_path)"
   ]
  },
  {
   "cell_type": "markdown",
   "id": "74f77177-da3e-4575-b806-b880779d9ad1",
   "metadata": {},
   "source": [
    "## <ins>AFFICHAGE DE LA COURBE FONCTION COUT ET PRECISION EN FONCTION DE L EPOCH</ins>"
   ]
  },
  {
   "cell_type": "code",
   "execution_count": 23,
   "id": "34d64caf-35af-4a21-909c-ea3b1f2cc6e0",
   "metadata": {},
   "outputs": [
    {
     "data": {
      "image/png": "[encoded data removed]",
      "text/plain": [
       "<Figure size 1200x400 with 2 Axes>"
      ]
     },
     "metadata": {},
     "output_type": "display_data"
    }
   ],
   "source": [
    "\n",
    "plt.figure(figsize=(12,4))\n",
    "\n",
    "plt.subplot(121)\n",
    "plt.plot(history.history['loss'])\n",
    "plt.plot(history.history['val_loss'])\n",
    "plt.title('Model loss by epoch')\n",
    "plt.ylabel('loss')\n",
    "plt.xlabel('epoch')\n",
    "plt.legend(['train', 'test'], loc='right')\n",
    "\n",
    "plt.subplot(122)\n",
    "plt.plot(history.history['accuracy'])\n",
    "plt.plot(history.history['val_accuracy'])\n",
    "plt.title('Model accuracy by epoch')\n",
    "plt.ylabel('accuracy')\n",
    "plt.xlabel('epoch')\n",
    "plt.legend(['train', 'test'], loc='right')\n",
    "plt.show()"
   ]
  },
  {
   "cell_type": "markdown",
   "id": "971691c5",
   "metadata": {},
   "source": [
    "#### SCORES"
   ]
  },
  {
   "cell_type": "code",
   "execution_count": 24,
   "id": "14c12a4e-3ef7-4a61-8d34-edbb7170aeb7",
   "metadata": {},
   "outputs": [
    {
     "name": "stdout",
     "output_type": "stream",
     "text": [
      "\u001b[1m57104/57104\u001b[0m \u001b[32m━━━━━━━━━━━━━━━━━━━━\u001b[0m\u001b[37m\u001b[0m \u001b[1m592s\u001b[0m 10ms/step\n"
     ]
    }
   ],
   "source": [
    "# Probabilités renvoyées par le modèle\n",
    "y_prob = model.predict(test_generator, batch_size=1)\n",
    "\n",
    "# Prédiction de la classe\n",
    "y_pred = tf.argmax(y_prob, axis=-1).numpy()"
   ]
  },
  {
   "cell_type": "code",
   "execution_count": 25,
   "id": "462b8181-cb1d-4d0c-b12a-ddc72f5d4c3a",
   "metadata": {},
   "outputs": [],
   "source": [
    "# Vraies étiquettes\n",
    "y_test = test_generator.classes\n",
    "class_labels = list(test_generator.class_indices.keys())   "
   ]
  },
  {
   "cell_type": "code",
   "execution_count": 26,
   "id": "da3fbbcf-288e-4e67-bbff-67075a8c7cfb",
   "metadata": {},
   "outputs": [
    {
     "name": "stdout",
     "output_type": "stream",
     "text": [
      "              precision    recall  f1-score   support\n",
      "\n",
      "          10       0.38      0.46      0.42      1970\n",
      "        1140       0.35      0.39      0.37      1553\n",
      "        1160       0.81      0.77      0.79      2173\n",
      "        1180       0.01      0.00      0.00       494\n",
      "        1280       0.23      0.52      0.32      3400\n",
      "        1281       0.27      0.13      0.18      1432\n",
      "        1300       0.36      0.61      0.45      3391\n",
      "        1301       0.06      0.01      0.01       509\n",
      "        1302       0.07      0.01      0.01      1670\n",
      "        1320       0.27      0.21      0.23      2176\n",
      "        1560       0.49      0.43      0.46      3664\n",
      "        1920       0.62      0.69      0.65      3051\n",
      "        1940       0.36      0.10      0.16       527\n",
      "        2060       0.41      0.20      0.26      3585\n",
      "        2220       0.00      0.00      0.00       610\n",
      "        2280       0.59      0.73      0.65      3016\n",
      "        2403       0.50      0.48      0.49      2905\n",
      "        2462       0.35      0.34      0.35       862\n",
      "        2522       0.45      0.57      0.50      3485\n",
      "        2582       0.35      0.05      0.08      1859\n",
      "        2583       0.63      0.79      0.70      7167\n",
      "        2585       0.18      0.01      0.01      1792\n",
      "        2705       0.58      0.55      0.56      1880\n",
      "        2905       0.51      0.51      0.51       667\n",
      "          40       0.39      0.48      0.43      1560\n",
      "          50       0.25      0.07      0.11      1124\n",
      "          60       0.40      0.37      0.38       582\n",
      "\n",
      "    accuracy                           0.46     57104\n",
      "   macro avg       0.37      0.35      0.34     57104\n",
      "weighted avg       0.43      0.46      0.42     57104\n",
      "\n"
     ]
    },
    {
     "name": "stderr",
     "output_type": "stream",
     "text": [
      "/usr/local/lib/python3.11/dist-packages/sklearn/metrics/_classification.py:1509: UndefinedMetricWarning: Precision is ill-defined and being set to 0.0 in labels with no predicted samples. Use `zero_division` parameter to control this behavior.\n",
      "  _warn_prf(average, modifier, f\"{metric.capitalize()} is\", len(result))\n",
      "/usr/local/lib/python3.11/dist-packages/sklearn/metrics/_classification.py:1509: UndefinedMetricWarning: Precision is ill-defined and being set to 0.0 in labels with no predicted samples. Use `zero_division` parameter to control this behavior.\n",
      "  _warn_prf(average, modifier, f\"{metric.capitalize()} is\", len(result))\n",
      "/usr/local/lib/python3.11/dist-packages/sklearn/metrics/_classification.py:1509: UndefinedMetricWarning: Precision is ill-defined and being set to 0.0 in labels with no predicted samples. Use `zero_division` parameter to control this behavior.\n",
      "  _warn_prf(average, modifier, f\"{metric.capitalize()} is\", len(result))\n"
     ]
    }
   ],
   "source": [
    "# Classification report\n",
    "from sklearn.metrics import classification_report, accuracy_score, f1_score\n",
    "\n",
    "print(classification_report(y_test, y_pred, target_names = class_labels))\n"
   ]
  },
  {
   "cell_type": "code",
   "execution_count": 27,
   "id": "b7b90b1d-5501-4f9c-be4c-ef18d7b4f7ae",
   "metadata": {},
   "outputs": [
    {
     "name": "stdout",
     "output_type": "stream",
     "text": [
      "ACCURACY DU MODELE :  0.45702577752871953\n",
      "\n",
      "F1_SCORE_WEIGHTED :  0.4249902846215123\n",
      "\n"
     ]
    }
   ],
   "source": [
    "# Calcul accuracy\n",
    "print (\"ACCURACY DU MODELE : \", accuracy_score(y_test, y_pred), end = \"\\n\\n\")\n",
    "# Calcul f1_score\n",
    "print(\"F1_SCORE_WEIGHTED : \", f1_score(y_test, y_pred, average = 'weighted'), end = \"\\n\\n\")"
   ]
  },
  {
   "cell_type": "code",
   "execution_count": null,
   "id": "f78b2c5f-8a7d-4612-90f8-a65e26e59c39",
   "metadata": {},
   "outputs": [],
   "source": []
  },
  {
   "cell_type": "code",
   "execution_count": null,
   "id": "d8d73b53-e3a9-4b18-be0f-1a13a3d16de3",
   "metadata": {},
   "outputs": [],
   "source": []
  }
 ],
 "metadata": {
  "kernelspec": {
   "display_name": "Python 3 (ipykernel)",
   "language": "python",
   "name": "python3"
  },
  "language_info": {
   "codemirror_mode": {
    "name": "ipython",
    "version": 3
   },
   "file_extension": ".py",
   "mimetype": "text/x-python",
   "name": "python",
   "nbconvert_exporter": "python",
   "pygments_lexer": "ipython3",
   "version": "3.11.0rc1"
  }
 },
 "nbformat": 4,
 "nbformat_minor": 5
}
