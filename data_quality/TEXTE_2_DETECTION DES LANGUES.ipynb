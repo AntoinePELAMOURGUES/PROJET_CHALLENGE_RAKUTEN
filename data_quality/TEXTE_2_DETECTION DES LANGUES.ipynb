{
 "cells": [
  {
   "cell_type": "markdown",
   "id": "0f7a967a-738f-4322-b9af-ef50bd8745b5",
   "metadata": {},
   "source": [
    "# <ins>DETECTION DES LANGUES</ins>"
   ]
  },
  {
   "cell_type": "markdown",
   "id": "edbf73c2-bdda-4d30-963c-a12a38e429be",
   "metadata": {},
   "source": [
    "## <ins>IMPORT DEPENDANCES ET DATASET</ins>"
   ]
  },
  {
   "cell_type": "code",
   "execution_count": 1,
   "id": "4238e225-3f25-4ab6-86b1-dd6d800362c6",
   "metadata": {},
   "outputs": [],
   "source": [
    "import pandas as pd\n",
    "import numpy as np\n",
    "import matplotlib.pyplot as plt\n",
    "\n",
    "from langdetect import detect\n",
    "import seaborn as sns"
   ]
  },
  {
   "cell_type": "code",
   "execution_count": 19,
   "id": "ee415541-9efa-469a-9363-e98d667ada8c",
   "metadata": {},
   "outputs": [
    {
     "data": {
      "text/html": [
       "<div>\n",
       "<style scoped>\n",
       "    .dataframe tbody tr th:only-of-type {\n",
       "        vertical-align: middle;\n",
       "    }\n",
       "\n",
       "    .dataframe tbody tr th {\n",
       "        vertical-align: top;\n",
       "    }\n",
       "\n",
       "    .dataframe thead th {\n",
       "        text-align: right;\n",
       "    }\n",
       "</style>\n",
       "<table border=\"1\" class=\"dataframe\">\n",
       "  <thead>\n",
       "    <tr style=\"text-align: right;\">\n",
       "      <th></th>\n",
       "      <th>designation</th>\n",
       "      <th>description</th>\n",
       "      <th>productid</th>\n",
       "      <th>imageid</th>\n",
       "    </tr>\n",
       "  </thead>\n",
       "  <tbody>\n",
       "    <tr>\n",
       "      <th>0</th>\n",
       "      <td>Olivia: Personalisiertes Notizbuch / 150 Seite...</td>\n",
       "      <td>NaN</td>\n",
       "      <td>3804725264</td>\n",
       "      <td>1263597046</td>\n",
       "    </tr>\n",
       "    <tr>\n",
       "      <th>1</th>\n",
       "      <td>Journal Des Arts (Le) N° 133 Du 28/09/2001 - L...</td>\n",
       "      <td>NaN</td>\n",
       "      <td>436067568</td>\n",
       "      <td>1008141237</td>\n",
       "    </tr>\n",
       "    <tr>\n",
       "      <th>2</th>\n",
       "      <td>Grand Stylet Ergonomique Bleu Gamepad Nintendo...</td>\n",
       "      <td>PILOT STYLE Touch Pen de marque Speedlink est ...</td>\n",
       "      <td>201115110</td>\n",
       "      <td>938777978</td>\n",
       "    </tr>\n",
       "    <tr>\n",
       "      <th>3</th>\n",
       "      <td>Peluche Donald - Europe - Disneyland 2000 (Mar...</td>\n",
       "      <td>NaN</td>\n",
       "      <td>50418756</td>\n",
       "      <td>457047496</td>\n",
       "    </tr>\n",
       "    <tr>\n",
       "      <th>4</th>\n",
       "      <td>La Guerre Des Tuques</td>\n",
       "      <td>Luc a des id&amp;eacute;es de grandeur. Il veut or...</td>\n",
       "      <td>278535884</td>\n",
       "      <td>1077757786</td>\n",
       "    </tr>\n",
       "  </tbody>\n",
       "</table>\n",
       "</div>"
      ],
      "text/plain": [
       "                                         designation  \\\n",
       "0  Olivia: Personalisiertes Notizbuch / 150 Seite...   \n",
       "1  Journal Des Arts (Le) N° 133 Du 28/09/2001 - L...   \n",
       "2  Grand Stylet Ergonomique Bleu Gamepad Nintendo...   \n",
       "3  Peluche Donald - Europe - Disneyland 2000 (Mar...   \n",
       "4                               La Guerre Des Tuques   \n",
       "\n",
       "                                         description   productid     imageid  \n",
       "0                                                NaN  3804725264  1263597046  \n",
       "1                                                NaN   436067568  1008141237  \n",
       "2  PILOT STYLE Touch Pen de marque Speedlink est ...   201115110   938777978  \n",
       "3                                                NaN    50418756   457047496  \n",
       "4  Luc a des id&eacute;es de grandeur. Il veut or...   278535884  1077757786  "
      ]
     },
     "metadata": {},
     "output_type": "display_data"
    },
    {
     "data": {
      "text/html": [
       "<div>\n",
       "<style scoped>\n",
       "    .dataframe tbody tr th:only-of-type {\n",
       "        vertical-align: middle;\n",
       "    }\n",
       "\n",
       "    .dataframe tbody tr th {\n",
       "        vertical-align: top;\n",
       "    }\n",
       "\n",
       "    .dataframe thead th {\n",
       "        text-align: right;\n",
       "    }\n",
       "</style>\n",
       "<table border=\"1\" class=\"dataframe\">\n",
       "  <thead>\n",
       "    <tr style=\"text-align: right;\">\n",
       "      <th></th>\n",
       "      <th>prdtypecode</th>\n",
       "    </tr>\n",
       "  </thead>\n",
       "  <tbody>\n",
       "    <tr>\n",
       "      <th>0</th>\n",
       "      <td>10</td>\n",
       "    </tr>\n",
       "    <tr>\n",
       "      <th>1</th>\n",
       "      <td>2280</td>\n",
       "    </tr>\n",
       "    <tr>\n",
       "      <th>2</th>\n",
       "      <td>50</td>\n",
       "    </tr>\n",
       "    <tr>\n",
       "      <th>3</th>\n",
       "      <td>1280</td>\n",
       "    </tr>\n",
       "    <tr>\n",
       "      <th>4</th>\n",
       "      <td>2705</td>\n",
       "    </tr>\n",
       "  </tbody>\n",
       "</table>\n",
       "</div>"
      ],
      "text/plain": [
       "   prdtypecode\n",
       "0           10\n",
       "1         2280\n",
       "2           50\n",
       "3         1280\n",
       "4         2705"
      ]
     },
     "metadata": {},
     "output_type": "display_data"
    }
   ],
   "source": [
    "X_train = pd.read_csv('X_train_update.csv', index_col = 'Unnamed: 0')\n",
    "y_train = pd.read_csv('Y_train_CVw08PX.csv', index_col = 'Unnamed: 0')\n",
    "\n",
    "display(X_train.head())\n",
    "display(y_train.head())"
   ]
  },
  {
   "cell_type": "markdown",
   "id": "b1082926-388e-4d87-a4fb-ba45f0ce18cc",
   "metadata": {},
   "source": [
    "## <ins>NETTOYAGE DES DONNEES</ins>"
   ]
  },
  {
   "cell_type": "code",
   "execution_count": 20,
   "id": "ae6ba3b3-852c-438f-9a16-6531d01943fd",
   "metadata": {},
   "outputs": [],
   "source": [
    "# jonction de notre DF train et de notre DF y_train\n",
    "df = pd.merge(left = X_train,\n",
    "         right = y_train,\n",
    "         left_index = True,\n",
    "         right_index = True,\n",
    "         how = 'inner')\n",
    "\n",
    "# REMPLACER DES NaN de descirpion en valeur nulle\n",
    "df['description'] = df.fillna('')\n",
    "\n",
    "# CONCATENER NOS 2 COLONNES DE TEXTES \n",
    "df['produit'] = df['designation'] + \" \" + df['description']\n",
    "\n",
    "# SUPPRESION DES 1414 VALEURS EN DOUBLE DANS NOTRE DF X_train\n",
    "df = df.drop_duplicates(subset=['designation', 'description'])\n",
    "\n",
    "# SUPPRESSION DES COLONNES DESIGNATION ET DEXCRIPTION\n",
    "df = df.drop(['description', 'designation'], axis = 1)\n"
   ]
  },
  {
   "cell_type": "code",
   "execution_count": 21,
   "id": "62176281-772d-46a6-8b42-511950758814",
   "metadata": {},
   "outputs": [
    {
     "data": {
      "text/html": [
       "<div>\n",
       "<style scoped>\n",
       "    .dataframe tbody tr th:only-of-type {\n",
       "        vertical-align: middle;\n",
       "    }\n",
       "\n",
       "    .dataframe tbody tr th {\n",
       "        vertical-align: top;\n",
       "    }\n",
       "\n",
       "    .dataframe thead th {\n",
       "        text-align: right;\n",
       "    }\n",
       "</style>\n",
       "<table border=\"1\" class=\"dataframe\">\n",
       "  <thead>\n",
       "    <tr style=\"text-align: right;\">\n",
       "      <th></th>\n",
       "      <th>productid</th>\n",
       "      <th>imageid</th>\n",
       "      <th>prdtypecode</th>\n",
       "      <th>produit</th>\n",
       "    </tr>\n",
       "  </thead>\n",
       "  <tbody>\n",
       "    <tr>\n",
       "      <th>0</th>\n",
       "      <td>3804725264</td>\n",
       "      <td>1263597046</td>\n",
       "      <td>10</td>\n",
       "      <td>Olivia: Personalisiertes Notizbuch / 150 Seite...</td>\n",
       "    </tr>\n",
       "    <tr>\n",
       "      <th>1</th>\n",
       "      <td>436067568</td>\n",
       "      <td>1008141237</td>\n",
       "      <td>2280</td>\n",
       "      <td>Journal Des Arts (Le) N° 133 Du 28/09/2001 - L...</td>\n",
       "    </tr>\n",
       "    <tr>\n",
       "      <th>2</th>\n",
       "      <td>201115110</td>\n",
       "      <td>938777978</td>\n",
       "      <td>50</td>\n",
       "      <td>Grand Stylet Ergonomique Bleu Gamepad Nintendo...</td>\n",
       "    </tr>\n",
       "    <tr>\n",
       "      <th>3</th>\n",
       "      <td>50418756</td>\n",
       "      <td>457047496</td>\n",
       "      <td>1280</td>\n",
       "      <td>Peluche Donald - Europe - Disneyland 2000 (Mar...</td>\n",
       "    </tr>\n",
       "    <tr>\n",
       "      <th>4</th>\n",
       "      <td>278535884</td>\n",
       "      <td>1077757786</td>\n",
       "      <td>2705</td>\n",
       "      <td>La Guerre Des Tuques Luc a des id&amp;eacute;es de...</td>\n",
       "    </tr>\n",
       "  </tbody>\n",
       "</table>\n",
       "</div>"
      ],
      "text/plain": [
       "    productid     imageid  prdtypecode  \\\n",
       "0  3804725264  1263597046           10   \n",
       "1   436067568  1008141237         2280   \n",
       "2   201115110   938777978           50   \n",
       "3    50418756   457047496         1280   \n",
       "4   278535884  1077757786         2705   \n",
       "\n",
       "                                             produit  \n",
       "0  Olivia: Personalisiertes Notizbuch / 150 Seite...  \n",
       "1  Journal Des Arts (Le) N° 133 Du 28/09/2001 - L...  \n",
       "2  Grand Stylet Ergonomique Bleu Gamepad Nintendo...  \n",
       "3  Peluche Donald - Europe - Disneyland 2000 (Mar...  \n",
       "4  La Guerre Des Tuques Luc a des id&eacute;es de...  "
      ]
     },
     "metadata": {},
     "output_type": "display_data"
    },
    {
     "data": {
      "text/plain": [
       "'Nombre de valeurs nulles : '"
      ]
     },
     "metadata": {},
     "output_type": "display_data"
    },
    {
     "data": {
      "text/plain": [
       "productid      0\n",
       "imageid        0\n",
       "prdtypecode    0\n",
       "produit        0\n",
       "dtype: int64"
      ]
     },
     "metadata": {},
     "output_type": "display_data"
    },
    {
     "name": "stdout",
     "output_type": "stream",
     "text": [
      "\n",
      "\n"
     ]
    },
    {
     "data": {
      "text/plain": [
       "'Shape après nettoyage : '"
      ]
     },
     "metadata": {},
     "output_type": "display_data"
    },
    {
     "data": {
      "text/plain": [
       "(83502, 4)"
      ]
     },
     "metadata": {},
     "output_type": "display_data"
    }
   ],
   "source": [
    "display(df.head())\n",
    "display(\"Nombre de valeurs nulles : \", df.isna().sum())\n",
    "print(\"\\n\")\n",
    "display(\"Shape après nettoyage : \", df.shape)"
   ]
  },
  {
   "cell_type": "markdown",
   "id": "dca68ab3-2613-4493-8f6f-fdbe2631276f",
   "metadata": {},
   "source": [
    "## <ins>DETECTION DES LANGUES</ins>"
   ]
  },
  {
   "cell_type": "code",
   "execution_count": 9,
   "id": "39bcbd1e-b478-4faf-b765-338f63ce42d3",
   "metadata": {},
   "outputs": [],
   "source": [
    "# FONCTION DE DETECTION DE LA LANGUE\n",
    "def detect_my_langue(text):\n",
    "    try:\n",
    "        return detect(text)\n",
    "    except:\n",
    "        return 'inconnu'\n",
    "\n",
    "# APPLICATION DE LA FONCTION SUR NOTRE COLONNE PRODUIT\n",
    "df['langue'] = df['produit'].apply(detect_my_langue)"
   ]
  },
  {
   "cell_type": "markdown",
   "id": "0d5367e6-105d-4aee-a494-a6a8535d2e03",
   "metadata": {},
   "source": [
    "## <ins>VISUALISATION DES LANGUES AU SEIN DU DATASET</ins>"
   ]
  },
  {
   "cell_type": "code",
   "execution_count": 13,
   "id": "968e0f7c-df2a-4347-8aa5-bda55ae5f4d7",
   "metadata": {},
   "outputs": [
    {
     "data": {
      "image/png": "[encoded data removed]",
      "text/plain": [
       "<Figure size 1500x800 with 1 Axes>"
      ]
     },
     "metadata": {},
     "output_type": "display_data"
    }
   ],
   "source": [
    "langue_count = df.groupby('langue').agg({'imageid':'count'})\n",
    "\n",
    "langue_count.columns = (['Count'])\n",
    "\n",
    "langue_count = langue_count.reset_index()\n",
    "\n",
    "langue_count = langue_count.sort_values(by= 'Count', ascending = False)\n",
    "\n",
    "plt.figure(figsize = (15,8))\n",
    "sns.barplot(data=langue_count, x='langue', y='Count')\n",
    "plt.title(\"Représentation des langues au sein du DF\")\n",
    "plt.xticks(rotation = 45)\n",
    "plt.show();"
   ]
  },
  {
   "cell_type": "code",
   "execution_count": 16,
   "id": "dd8bde32-9c82-4bb5-86fe-b03f0662b9b5",
   "metadata": {},
   "outputs": [
    {
     "name": "stdout",
     "output_type": "stream",
     "text": [
      "Il y a 31 langues détectées au sein du datastet\n"
     ]
    }
   ],
   "source": [
    "print(\"Il y a {} langues détectées au sein du datastet\".format(len(langue_count)))"
   ]
  },
  {
   "cell_type": "code",
   "execution_count": 5,
   "id": "8246c1ca-6bdc-46c0-a2be-cfbeb34f3049",
   "metadata": {},
   "outputs": [],
   "source": [
    "top_langue = df.langue.value_counts(ascending = False) / df.shape[0]"
   ]
  },
  {
   "cell_type": "code",
   "execution_count": 6,
   "id": "bcaa0d1d-a8ad-4951-b717-b5414b90a795",
   "metadata": {},
   "outputs": [
    {
     "data": {
      "text/plain": [
       "langue\n",
       "fr    0.763383\n",
       "en    0.148775\n",
       "de    0.032347\n",
       "nl    0.012467\n",
       "ca    0.009149\n",
       "it    0.007712\n",
       "ro    0.004168\n",
       "es    0.004060\n",
       "pt    0.003293\n",
       "id    0.002275\n",
       "Name: count, dtype: float64"
      ]
     },
     "execution_count": 6,
     "metadata": {},
     "output_type": "execute_result"
    }
   ],
   "source": [
    "top_langue.head(10)"
   ]
  },
  {
   "cell_type": "markdown",
   "id": "1f147a35-9b1b-4709-b802-5d4dc878aeb8",
   "metadata": {},
   "source": [
    "#### Nous constatons que la langue française représente 76 % du dataset et la langue anglais 14%. Nous décidons pour le reste de l'analyse de se militer à ces 2 langues"
   ]
  },
  {
   "cell_type": "markdown",
   "id": "13539a0f-6897-466c-a9db-90b986969ecc",
   "metadata": {},
   "source": [
    "## <ins>Sélection de nos 2 langues et sauvegarde du nouveau DF</ins>"
   ]
  },
  {
   "cell_type": "code",
   "execution_count": 29,
   "id": "d6dc7d76-a4c0-4304-9666-d643393c4a17",
   "metadata": {},
   "outputs": [
    {
     "data": {
      "text/plain": [
       "langue\n",
       "fr    63744\n",
       "en    12423\n",
       "Name: count, dtype: int64"
      ]
     },
     "execution_count": 29,
     "metadata": {},
     "output_type": "execute_result"
    }
   ],
   "source": [
    "df_fr_en = df.loc[(df.langue == 'fr') | (df.langue == 'en')]\n",
    "\n",
    "df_fr_en.value_counts()"
   ]
  },
  {
   "cell_type": "code",
   "execution_count": 32,
   "id": "5ccaf0bd-ccfb-4142-95e6-4e8e915686a5",
   "metadata": {},
   "outputs": [
    {
     "data": {
      "text/html": [
       "<div>\n",
       "<style scoped>\n",
       "    .dataframe tbody tr th:only-of-type {\n",
       "        vertical-align: middle;\n",
       "    }\n",
       "\n",
       "    .dataframe tbody tr th {\n",
       "        vertical-align: top;\n",
       "    }\n",
       "\n",
       "    .dataframe thead th {\n",
       "        text-align: right;\n",
       "    }\n",
       "</style>\n",
       "<table border=\"1\" class=\"dataframe\">\n",
       "  <thead>\n",
       "    <tr style=\"text-align: right;\">\n",
       "      <th></th>\n",
       "      <th>productid</th>\n",
       "      <th>imageid</th>\n",
       "      <th>prdtypecode</th>\n",
       "      <th>produit</th>\n",
       "      <th>langue</th>\n",
       "    </tr>\n",
       "  </thead>\n",
       "  <tbody>\n",
       "    <tr>\n",
       "      <th>1</th>\n",
       "      <td>436067568</td>\n",
       "      <td>1008141237</td>\n",
       "      <td>2280</td>\n",
       "      <td>Journal Des Arts (Le) N° 133 Du 28/09/2001 - L...</td>\n",
       "      <td>fr</td>\n",
       "    </tr>\n",
       "    <tr>\n",
       "      <th>2</th>\n",
       "      <td>201115110</td>\n",
       "      <td>938777978</td>\n",
       "      <td>50</td>\n",
       "      <td>Grand Stylet Ergonomique Bleu Gamepad Nintendo...</td>\n",
       "      <td>fr</td>\n",
       "    </tr>\n",
       "    <tr>\n",
       "      <th>3</th>\n",
       "      <td>50418756</td>\n",
       "      <td>457047496</td>\n",
       "      <td>1280</td>\n",
       "      <td>Peluche Donald - Europe - Disneyland 2000 (Mar...</td>\n",
       "      <td>en</td>\n",
       "    </tr>\n",
       "    <tr>\n",
       "      <th>4</th>\n",
       "      <td>278535884</td>\n",
       "      <td>1077757786</td>\n",
       "      <td>2705</td>\n",
       "      <td>La Guerre Des Tuques Luc a des id&amp;eacute;es de...</td>\n",
       "      <td>fr</td>\n",
       "    </tr>\n",
       "    <tr>\n",
       "      <th>5</th>\n",
       "      <td>5862738</td>\n",
       "      <td>393356830</td>\n",
       "      <td>2280</td>\n",
       "      <td>Afrique Contemporaine N° 212 Hiver 2004 - Doss...</td>\n",
       "      <td>fr</td>\n",
       "    </tr>\n",
       "  </tbody>\n",
       "</table>\n",
       "</div>"
      ],
      "text/plain": [
       "   productid     imageid  prdtypecode  \\\n",
       "1  436067568  1008141237         2280   \n",
       "2  201115110   938777978           50   \n",
       "3   50418756   457047496         1280   \n",
       "4  278535884  1077757786         2705   \n",
       "5    5862738   393356830         2280   \n",
       "\n",
       "                                             produit langue  \n",
       "1  Journal Des Arts (Le) N° 133 Du 28/09/2001 - L...     fr  \n",
       "2  Grand Stylet Ergonomique Bleu Gamepad Nintendo...     fr  \n",
       "3  Peluche Donald - Europe - Disneyland 2000 (Mar...     en  \n",
       "4  La Guerre Des Tuques Luc a des id&eacute;es de...     fr  \n",
       "5  Afrique Contemporaine N° 212 Hiver 2004 - Doss...     fr  "
      ]
     },
     "execution_count": 32,
     "metadata": {},
     "output_type": "execute_result"
    }
   ],
   "source": [
    "df_fr_en.head()"
   ]
  },
  {
   "cell_type": "code",
   "execution_count": 33,
   "id": "2125500a-71bc-484a-89f1-adbdf2366eb2",
   "metadata": {},
   "outputs": [],
   "source": [
    "# df_fr_en.to_csv(\"df_fr_en.csv\", index = False)"
   ]
  }
 ],
 "metadata": {
  "kernelspec": {
   "display_name": "Python 3 (ipykernel)",
   "language": "python",
   "name": "python3"
  },
  "language_info": {
   "codemirror_mode": {
    "name": "ipython",
    "version": 3
   },
   "file_extension": ".py",
   "mimetype": "text/x-python",
   "name": "python",
   "nbconvert_exporter": "python",
   "pygments_lexer": "ipython3",
   "version": "3.11.0rc1"
  }
 },
 "nbformat": 4,
 "nbformat_minor": 5
}
