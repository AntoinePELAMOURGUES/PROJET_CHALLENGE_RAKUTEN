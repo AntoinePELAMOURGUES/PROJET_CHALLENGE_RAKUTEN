{
 "cells": [
  {
   "cell_type": "markdown",
   "id": "07a1695a-38b3-4cce-94e6-4e0e4e716ad1",
   "metadata": {},
   "source": [
    "# <ins>NETTOYAGE ET VECTORIZATION DE LA COLONNE TEXTE</ins>"
   ]
  },
  {
   "cell_type": "markdown",
   "id": "175b1b4e-8b6b-47a4-9293-14d75f040013",
   "metadata": {},
   "source": [
    "#### Jusqu'ici, nous avons:\n",
    "\n",
    "- procédé à la concatenation des colonnes 'designation' et 'description'\n",
    "- supprimé les données en doubles\n",
    "- séléctionné les produits ayant une description en français et en anglais.\n",
    "- sélectionné les desciptions françaises et anglaises\n",
    "  \n",
    "#### Nous allons maintenant procéder à la préparation de la colonne 'produit'en effectuant les opérations suivantes :\n",
    "\n",
    "- suppression des ponctuations, des majuscules et des chiffres\n",
    "- lemmatisation (regrouper les mots ayant le même sens)\n",
    "- suppression des stopwords\n",
    "- suppresion des balises html\n",
    "- tokenisation des phrases (découpe des phrases en mots) mots)"
   ]
  },
  {
   "cell_type": "markdown",
   "id": "fbe69a73-9b78-4f31-98cf-7032cffda7c8",
   "metadata": {},
   "source": [
    "## <ins>IMPORT DES DEPENDANCES ET DU DATASET</ins>"
   ]
  },
  {
   "cell_type": "code",
   "execution_count": 49,
   "id": "51cb3801",
   "metadata": {},
   "outputs": [],
   "source": [
    "import pandas as pd\n",
    "import numpy as np\n",
    "import re\n",
    "import seaborn as sns\n",
    "\n",
    "import nltk\n",
    "from nltk.tokenize import word_tokenize\n",
    "from nltk.corpus import stopwords\n",
    "from nltk.stem import WordNetLemmatizer\n",
    "import string\n",
    "from bs4 import BeautifulSoup\n"
   ]
  },
  {
   "cell_type": "code",
   "execution_count": 10,
   "id": "7042ef94",
   "metadata": {},
   "outputs": [
    {
     "data": {
      "text/html": [
       "<div>\n",
       "<style scoped>\n",
       "    .dataframe tbody tr th:only-of-type {\n",
       "        vertical-align: middle;\n",
       "    }\n",
       "\n",
       "    .dataframe tbody tr th {\n",
       "        vertical-align: top;\n",
       "    }\n",
       "\n",
       "    .dataframe thead th {\n",
       "        text-align: right;\n",
       "    }\n",
       "</style>\n",
       "<table border=\"1\" class=\"dataframe\">\n",
       "  <thead>\n",
       "    <tr style=\"text-align: right;\">\n",
       "      <th></th>\n",
       "      <th>productid</th>\n",
       "      <th>imageid</th>\n",
       "      <th>prdtypecode</th>\n",
       "      <th>produit</th>\n",
       "      <th>langue</th>\n",
       "    </tr>\n",
       "  </thead>\n",
       "  <tbody>\n",
       "    <tr>\n",
       "      <th>0</th>\n",
       "      <td>436067568</td>\n",
       "      <td>1008141237</td>\n",
       "      <td>2280</td>\n",
       "      <td>Journal Des Arts (Le) N° 133 Du 28/09/2001 - L...</td>\n",
       "      <td>fr</td>\n",
       "    </tr>\n",
       "    <tr>\n",
       "      <th>1</th>\n",
       "      <td>201115110</td>\n",
       "      <td>938777978</td>\n",
       "      <td>50</td>\n",
       "      <td>Grand Stylet Ergonomique Bleu Gamepad Nintendo...</td>\n",
       "      <td>fr</td>\n",
       "    </tr>\n",
       "    <tr>\n",
       "      <th>2</th>\n",
       "      <td>50418756</td>\n",
       "      <td>457047496</td>\n",
       "      <td>1280</td>\n",
       "      <td>Peluche Donald - Europe - Disneyland 2000 (Mar...</td>\n",
       "      <td>en</td>\n",
       "    </tr>\n",
       "    <tr>\n",
       "      <th>3</th>\n",
       "      <td>278535884</td>\n",
       "      <td>1077757786</td>\n",
       "      <td>2705</td>\n",
       "      <td>La Guerre Des Tuques Luc a des id&amp;eacute;es de...</td>\n",
       "      <td>fr</td>\n",
       "    </tr>\n",
       "    <tr>\n",
       "      <th>4</th>\n",
       "      <td>5862738</td>\n",
       "      <td>393356830</td>\n",
       "      <td>2280</td>\n",
       "      <td>Afrique Contemporaine N° 212 Hiver 2004 - Doss...</td>\n",
       "      <td>fr</td>\n",
       "    </tr>\n",
       "  </tbody>\n",
       "</table>\n",
       "</div>"
      ],
      "text/plain": [
       "   productid     imageid  prdtypecode  \\\n",
       "0  436067568  1008141237         2280   \n",
       "1  201115110   938777978           50   \n",
       "2   50418756   457047496         1280   \n",
       "3  278535884  1077757786         2705   \n",
       "4    5862738   393356830         2280   \n",
       "\n",
       "                                             produit langue  \n",
       "0  Journal Des Arts (Le) N° 133 Du 28/09/2001 - L...     fr  \n",
       "1  Grand Stylet Ergonomique Bleu Gamepad Nintendo...     fr  \n",
       "2  Peluche Donald - Europe - Disneyland 2000 (Mar...     en  \n",
       "3  La Guerre Des Tuques Luc a des id&eacute;es de...     fr  \n",
       "4  Afrique Contemporaine N° 212 Hiver 2004 - Doss...     fr  "
      ]
     },
     "execution_count": 10,
     "metadata": {},
     "output_type": "execute_result"
    }
   ],
   "source": [
    "df = pd.read_csv('df_fr_en.csv')\n",
    "\n",
    "df.head()"
   ]
  },
  {
   "cell_type": "markdown",
   "id": "d328cea6-5508-4f0a-b4cb-e644ada731a5",
   "metadata": {},
   "source": [
    "## <ins>PREPARATION DATASET</ins>"
   ]
  },
  {
   "cell_type": "code",
   "execution_count": 18,
   "id": "d71650f7-f4e3-4484-a776-1982cf241ba1",
   "metadata": {},
   "outputs": [
    {
     "data": {
      "text/html": [
       "<div>\n",
       "<style scoped>\n",
       "    .dataframe tbody tr th:only-of-type {\n",
       "        vertical-align: middle;\n",
       "    }\n",
       "\n",
       "    .dataframe tbody tr th {\n",
       "        vertical-align: top;\n",
       "    }\n",
       "\n",
       "    .dataframe thead th {\n",
       "        text-align: right;\n",
       "    }\n",
       "</style>\n",
       "<table border=\"1\" class=\"dataframe\">\n",
       "  <thead>\n",
       "    <tr style=\"text-align: right;\">\n",
       "      <th></th>\n",
       "      <th>productid</th>\n",
       "      <th>imageid</th>\n",
       "      <th>prdtypecode</th>\n",
       "      <th>produit</th>\n",
       "      <th>langue</th>\n",
       "    </tr>\n",
       "  </thead>\n",
       "  <tbody>\n",
       "    <tr>\n",
       "      <th>0</th>\n",
       "      <td>436067568</td>\n",
       "      <td>1008141237</td>\n",
       "      <td>2280</td>\n",
       "      <td>Journal Des Arts (Le) N° 133 Du 28/09/2001 - L...</td>\n",
       "      <td>french</td>\n",
       "    </tr>\n",
       "    <tr>\n",
       "      <th>1</th>\n",
       "      <td>201115110</td>\n",
       "      <td>938777978</td>\n",
       "      <td>50</td>\n",
       "      <td>Grand Stylet Ergonomique Bleu Gamepad Nintendo...</td>\n",
       "      <td>french</td>\n",
       "    </tr>\n",
       "    <tr>\n",
       "      <th>2</th>\n",
       "      <td>50418756</td>\n",
       "      <td>457047496</td>\n",
       "      <td>1280</td>\n",
       "      <td>Peluche Donald - Europe - Disneyland 2000 (Mar...</td>\n",
       "      <td>english</td>\n",
       "    </tr>\n",
       "    <tr>\n",
       "      <th>3</th>\n",
       "      <td>278535884</td>\n",
       "      <td>1077757786</td>\n",
       "      <td>2705</td>\n",
       "      <td>La Guerre Des Tuques Luc a des id&amp;eacute;es de...</td>\n",
       "      <td>french</td>\n",
       "    </tr>\n",
       "    <tr>\n",
       "      <th>4</th>\n",
       "      <td>5862738</td>\n",
       "      <td>393356830</td>\n",
       "      <td>2280</td>\n",
       "      <td>Afrique Contemporaine N° 212 Hiver 2004 - Doss...</td>\n",
       "      <td>french</td>\n",
       "    </tr>\n",
       "  </tbody>\n",
       "</table>\n",
       "</div>"
      ],
      "text/plain": [
       "   productid     imageid  prdtypecode  \\\n",
       "0  436067568  1008141237         2280   \n",
       "1  201115110   938777978           50   \n",
       "2   50418756   457047496         1280   \n",
       "3  278535884  1077757786         2705   \n",
       "4    5862738   393356830         2280   \n",
       "\n",
       "                                             produit   langue  \n",
       "0  Journal Des Arts (Le) N° 133 Du 28/09/2001 - L...   french  \n",
       "1  Grand Stylet Ergonomique Bleu Gamepad Nintendo...   french  \n",
       "2  Peluche Donald - Europe - Disneyland 2000 (Mar...  english  \n",
       "3  La Guerre Des Tuques Luc a des id&eacute;es de...   french  \n",
       "4  Afrique Contemporaine N° 212 Hiver 2004 - Doss...   french  "
      ]
     },
     "execution_count": 18,
     "metadata": {},
     "output_type": "execute_result"
    }
   ],
   "source": [
    "# Passage de nos colonnes produits en string\n",
    "df[['produit','langue']].astype(str)\n",
    "\n",
    "# Remplacement fr en french et en en english pour la fonction à venir et la dépendance NLTK\n",
    "df.langue = df.langue.replace('en', \"english\")\n",
    "df.langue = df.langue.replace('fr', \"french\")\n",
    "\n",
    "df.head()"
   ]
  },
  {
   "cell_type": "code",
   "execution_count": 14,
   "id": "9d1316d5-c65c-4a6d-a8d5-8e05943e1d0c",
   "metadata": {},
   "outputs": [
    {
     "name": "stderr",
     "output_type": "stream",
     "text": [
      "[nltk_data] Downloading package stopwords to\n",
      "[nltk_data]     C:\\Users\\antoi\\AppData\\Roaming\\nltk_data...\n",
      "[nltk_data]   Package stopwords is already up-to-date!\n",
      "[nltk_data] Downloading package punkt to\n",
      "[nltk_data]     C:\\Users\\antoi\\AppData\\Roaming\\nltk_data...\n",
      "[nltk_data]   Package punkt is already up-to-date!\n"
     ]
    },
    {
     "data": {
      "text/plain": [
       "True"
      ]
     },
     "execution_count": 14,
     "metadata": {},
     "output_type": "execute_result"
    }
   ],
   "source": [
    "# Chargement des éléments de la biblio NTLK\n",
    "nltk.download('stopwords')\n",
    "nltk.download('punkt')"
   ]
  },
  {
   "cell_type": "code",
   "execution_count": 29,
   "id": "5b8aceb6",
   "metadata": {},
   "outputs": [],
   "source": [
    "def pretraitement_texte(texte, langue):\n",
    "    \n",
    "    preprocess_list = []\n",
    "    \n",
    "    lemmatizer = WordNetLemmatizer()               \n",
    "         \n",
    "    for mots, langues in zip(texte, langue) :\n",
    "\n",
    "        if langues == \"english\":        \n",
    "            stop_words = set(stopwords.words('english'))        \n",
    "        else:\n",
    "            stop_words = set(stopwords.words('french'))\n",
    "            \n",
    "        # Suppression des balises HTML\n",
    "        mots = BeautifulSoup(mots, 'html.parser').get_text()\n",
    "        \n",
    "        # Remplacement des apostrophes et ° par des espaces\n",
    "        mots = mots.replace(\"'\", \" \")\n",
    "        mots = mots.replace(\"°\", \" \")\n",
    "        \n",
    "        # Convertir en minuscules\n",
    "        mots = mots.lower()\n",
    "                \n",
    "        # Supprimer les chiffres en conservant années (4chiffres qui se suivent at n°de série)\n",
    "        mots = re.sub(r'\\b(?!(\\d{4}|[A-Z]{3}\\d{3})\\b)\\d+\\b', '', mots)\n",
    "\n",
    "        # Supprimer la ponctuation et prendre les mots de plus de 2 acractères\n",
    "        mots = \"\".join([i for i in mots if i not in string.punctuation])\n",
    "\n",
    "        # Tokeniser\n",
    "        tokenize_mots = word_tokenize(mots, language=langues)\n",
    "        \n",
    "        # Supprimer les stopwords\n",
    "        mots = [i for i in tokenize_mots if i not in stop_words and len(i) > 2]\n",
    "        \n",
    "        # Lemmatisation\n",
    "        mots = [lemmatizer.lemmatize(i) for i in mots]\n",
    "        \n",
    "        # Rejoindre les mots traités\n",
    "        mots_clean = ' '.join(mots)\n",
    "\n",
    "        preprocess_list.append(mots_clean)\n",
    "        \n",
    "    return preprocess_list"
   ]
  },
  {
   "cell_type": "code",
   "execution_count": 31,
   "id": "a5bf4cc7",
   "metadata": {},
   "outputs": [
    {
     "name": "stderr",
     "output_type": "stream",
     "text": [
      "C:\\Users\\antoi\\AppData\\Local\\Temp\\ipykernel_22572\\2702126469.py:15: MarkupResemblesLocatorWarning: The input looks more like a filename than markup. You may want to open this file and pass the filehandle into Beautiful Soup.\n",
      "  mots = BeautifulSoup(mots, 'html.parser').get_text()\n"
     ]
    }
   ],
   "source": [
    "pretraitement_liste = pretraitement_texte(df['produit'], df['langue'])"
   ]
  },
  {
   "cell_type": "markdown",
   "id": "f495a37d-1add-4adf-95a4-4c422b2605d4",
   "metadata": {},
   "source": [
    "## <ins>TEST DE NOTRE FONCTION DE PRETRAITEMENT</ins>"
   ]
  },
  {
   "cell_type": "code",
   "execution_count": 32,
   "id": "0ea766ac",
   "metadata": {},
   "outputs": [
    {
     "name": "stdout",
     "output_type": "stream",
     "text": [
      "Phrase de base français : \n",
      "\n",
      "Journal Des Arts (Le) N° 133 Du 28/09/2001 - L'art Et Son Marche Salon D'art Asiatique A Paris - Jacques Barrere - Francois Perrier - La Reforme Des Ventes Aux Encheres Publiques - Le Sna Fete Ses Cent Ans. \n",
      "\n",
      "Phrase nettoyée français : \n",
      "\n",
      "journal art 2001 art marche salon art asiatique paris jacques barrere francois perrier reforme ventes encheres publiques sna fete cent an\n",
      "\n",
      "----------------------------------------\n",
      "Phrase de base anglais : \n",
      "\n",
      "Peluche Donald - Europe - Disneyland 2000 (Marionnette À Doigt) \n",
      "\n",
      "Phrase nettoyée anglais : \n",
      "\n",
      "peluche donald europe disneyland 2000 marionnette doigt\n",
      "\n"
     ]
    }
   ],
   "source": [
    "\n",
    "print('Phrase de base français : ', end = \"\\n\\n\")\n",
    "print(df['produit'][0],  end = \"\\n\\n\")\n",
    "\n",
    "print('Phrase nettoyée français : ', end = \"\\n\\n\")\n",
    "print(pretraitement_liste[0], end = \"\\n\\n\")\n",
    "\n",
    "print(\"-\"*40)\n",
    "\n",
    "print('Phrase de base anglais : ', end = \"\\n\\n\")\n",
    "print(df['produit'][2],  end = \"\\n\\n\")\n",
    "\n",
    "print('Phrase nettoyée anglais : ', end = \"\\n\\n\")\n",
    "print(pretraitement_liste[2], end = \"\\n\\n\")\n"
   ]
  },
  {
   "cell_type": "markdown",
   "id": "0678d3a3-c103-4e71-a7f0-22047d8dfc68",
   "metadata": {},
   "source": [
    "## <ins>Sauvegarde</ins>"
   ]
  },
  {
   "cell_type": "code",
   "execution_count": null,
   "id": "3d75a666-30ed-442d-9774-1b7ea14eec5c",
   "metadata": {},
   "outputs": [],
   "source": [
    "# CREATIONS D UNE COLONNE PRODUIT CLEAN CONTENANT NOS DONNEES TEXTUELLES NETOYEES\n",
    "df['produit_clean'] = pretraitement_liste\n",
    "# SUPPRESSION DE L'ANCIENNCE COLONNE\n",
    "df = df.drop(['produit'], axis = 1)"
   ]
  },
  {
   "cell_type": "code",
   "execution_count": 41,
   "id": "5308f7b7",
   "metadata": {},
   "outputs": [],
   "source": [
    "# SAUVEGARDE\n",
    "df.to_csv('df_texte_clean.csv')"
   ]
  },
  {
   "cell_type": "markdown",
   "id": "98254778-70d8-4911-91b6-5b53989a3b98",
   "metadata": {},
   "source": [
    "## <ins>Décompte des mots</ins>"
   ]
  },
  {
   "cell_type": "code",
   "execution_count": 42,
   "id": "3a045afc",
   "metadata": {},
   "outputs": [
    {
     "data": {
      "text/html": [
       "<div>\n",
       "<style scoped>\n",
       "    .dataframe tbody tr th:only-of-type {\n",
       "        vertical-align: middle;\n",
       "    }\n",
       "\n",
       "    .dataframe tbody tr th {\n",
       "        vertical-align: top;\n",
       "    }\n",
       "\n",
       "    .dataframe thead th {\n",
       "        text-align: right;\n",
       "    }\n",
       "</style>\n",
       "<table border=\"1\" class=\"dataframe\">\n",
       "  <thead>\n",
       "    <tr style=\"text-align: right;\">\n",
       "      <th></th>\n",
       "      <th>productid</th>\n",
       "      <th>imageid</th>\n",
       "      <th>prdtypecode</th>\n",
       "      <th>langue</th>\n",
       "      <th>produit_clean</th>\n",
       "    </tr>\n",
       "  </thead>\n",
       "  <tbody>\n",
       "    <tr>\n",
       "      <th>0</th>\n",
       "      <td>436067568</td>\n",
       "      <td>1008141237</td>\n",
       "      <td>2280</td>\n",
       "      <td>french</td>\n",
       "      <td>journal art 2001 art marche salon art asiatiqu...</td>\n",
       "    </tr>\n",
       "    <tr>\n",
       "      <th>1</th>\n",
       "      <td>201115110</td>\n",
       "      <td>938777978</td>\n",
       "      <td>50</td>\n",
       "      <td>french</td>\n",
       "      <td>grand stylet ergonomique bleu gamepad nintendo...</td>\n",
       "    </tr>\n",
       "    <tr>\n",
       "      <th>2</th>\n",
       "      <td>50418756</td>\n",
       "      <td>457047496</td>\n",
       "      <td>1280</td>\n",
       "      <td>english</td>\n",
       "      <td>peluche donald europe disneyland 2000 marionne...</td>\n",
       "    </tr>\n",
       "    <tr>\n",
       "      <th>3</th>\n",
       "      <td>278535884</td>\n",
       "      <td>1077757786</td>\n",
       "      <td>2705</td>\n",
       "      <td>french</td>\n",
       "      <td>guerre tuques luc idées grandeur veut organise...</td>\n",
       "    </tr>\n",
       "    <tr>\n",
       "      <th>4</th>\n",
       "      <td>5862738</td>\n",
       "      <td>393356830</td>\n",
       "      <td>2280</td>\n",
       "      <td>french</td>\n",
       "      <td>afrique contemporaine hiver 2004 dossier japon...</td>\n",
       "    </tr>\n",
       "  </tbody>\n",
       "</table>\n",
       "</div>"
      ],
      "text/plain": [
       "   productid     imageid  prdtypecode   langue  \\\n",
       "0  436067568  1008141237         2280   french   \n",
       "1  201115110   938777978           50   french   \n",
       "2   50418756   457047496         1280  english   \n",
       "3  278535884  1077757786         2705   french   \n",
       "4    5862738   393356830         2280   french   \n",
       "\n",
       "                                       produit_clean  \n",
       "0  journal art 2001 art marche salon art asiatiqu...  \n",
       "1  grand stylet ergonomique bleu gamepad nintendo...  \n",
       "2  peluche donald europe disneyland 2000 marionne...  \n",
       "3  guerre tuques luc idées grandeur veut organise...  \n",
       "4  afrique contemporaine hiver 2004 dossier japon...  "
      ]
     },
     "execution_count": 42,
     "metadata": {},
     "output_type": "execute_result"
    }
   ],
   "source": [
    "df.head()"
   ]
  },
  {
   "cell_type": "code",
   "execution_count": 43,
   "id": "7ef5580d",
   "metadata": {},
   "outputs": [],
   "source": [
    "from collections import Counter\n",
    "\n",
    "# Décompte des mots uniques\n",
    "def counter_word(text_col):\n",
    "    count = Counter()\n",
    "    for text in text_col.values:\n",
    "        for word in text.split():\n",
    "            count[word] +=1\n",
    "    return count\n",
    "\n",
    "counter = counter_word(df.produit_clean)"
   ]
  },
  {
   "cell_type": "code",
   "execution_count": 44,
   "id": "bbeed15e",
   "metadata": {},
   "outputs": [
    {
     "name": "stdout",
     "output_type": "stream",
     "text": [
      "Il y a 217671 mots uniques\n"
     ]
    }
   ],
   "source": [
    "print(\"Il y a {} mots uniques\".format(len(counter)))"
   ]
  },
  {
   "cell_type": "code",
   "execution_count": 52,
   "id": "b31cd27b-230d-4f88-96e4-a90398175a33",
   "metadata": {},
   "outputs": [
    {
     "data": {
      "text/plain": [
       "[('couleur', 22993),\n",
       " ('taille', 22638),\n",
       " ('plus', 21634),\n",
       " ('piscine', 20988),\n",
       " ('peut', 20291),\n",
       " ('eau', 18354),\n",
       " ('haute', 17936),\n",
       " ('qualité', 15983),\n",
       " ('être', 15489),\n",
       " ('dimension', 13246),\n",
       " ('facile', 12472),\n",
       " ('enfants', 12384),\n",
       " ('tout', 12160),\n",
       " ('matériel', 11960),\n",
       " ('sans', 11629),\n",
       " ('produit', 11465),\n",
       " ('jeu', 10828),\n",
       " ('bois', 10712),\n",
       " ('acier', 10167),\n",
       " ('caractéristiques', 9637),\n",
       " ('oreiller', 9559),\n",
       " ('type', 9552),\n",
       " ('comme', 9290),\n",
       " ('plaît', 9100),\n",
       " ('coussin', 8770),\n",
       " ('lumière', 8735),\n",
       " ('comprend', 8554),\n",
       " ('sac', 8407),\n",
       " ('non', 8334),\n",
       " ('très', 8309)]"
      ]
     },
     "execution_count": 52,
     "metadata": {},
     "output_type": "execute_result"
    }
   ],
   "source": [
    "# Top 30 des mots présents\n",
    "top_30 = counter.most_common(30)\n",
    "\n",
    "top_30"
   ]
  },
  {
   "cell_type": "code",
   "execution_count": 72,
   "id": "67945eb1-91d1-4e69-a281-232767dc8f4e",
   "metadata": {},
   "outputs": [],
   "source": [
    "mots_10 = []\n",
    "for i in range(10):\n",
    "    mots_10.append(top_30[i][0])\n",
    "    \n",
    "value_10 = []\n",
    "for i in range(10):\n",
    "    value_10.append(top_30[i][1])"
   ]
  },
  {
   "cell_type": "code",
   "execution_count": 73,
   "id": "fefc469c-7338-4964-863a-ac42ee42c414",
   "metadata": {},
   "outputs": [
    {
     "data": {
      "text/plain": [
       "['couleur',\n",
       " 'taille',\n",
       " 'plus',\n",
       " 'piscine',\n",
       " 'peut',\n",
       " 'eau',\n",
       " 'haute',\n",
       " 'qualité',\n",
       " 'être',\n",
       " 'dimension']"
      ]
     },
     "execution_count": 73,
     "metadata": {},
     "output_type": "execute_result"
    }
   ],
   "source": [
    "mots_10"
   ]
  },
  {
   "cell_type": "code",
   "execution_count": 74,
   "id": "7a837da0-23f3-4f28-8784-80bdb1fe7004",
   "metadata": {},
   "outputs": [
    {
     "data": {
      "image/png": "[encoded data removed]",
      "text/plain": [
       "<Figure size 640x480 with 1 Axes>"
      ]
     },
     "metadata": {},
     "output_type": "display_data"
    }
   ],
   "source": [
    "import matplotlib.pyplot\n",
    "\n",
    "plt.figure()\n",
    "plt.barh(mots_10, value_10)\n",
    "plt.title('Top 10 des mots le splus trouvés')\n",
    "plt.show();"
   ]
  },
  {
   "cell_type": "code",
   "execution_count": null,
   "id": "1a94efdc-1377-425f-ab8f-81f3c6f2754b",
   "metadata": {},
   "outputs": [],
   "source": []
  }
 ],
 "metadata": {
  "kernelspec": {
   "display_name": "Python 3 (ipykernel)",
   "language": "python",
   "name": "python3"
  },
  "language_info": {
   "codemirror_mode": {
    "name": "ipython",
    "version": 3
   },
   "file_extension": ".py",
   "mimetype": "text/x-python",
   "name": "python",
   "nbconvert_exporter": "python",
   "pygments_lexer": "ipython3",
   "version": "3.11.0rc1"
  }
 },
 "nbformat": 4,
 "nbformat_minor": 5
}
